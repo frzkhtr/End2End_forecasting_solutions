{
  "nbformat": 4,
  "nbformat_minor": 0,
  "metadata": {
    "colab": {
      "name": "Copy of End-2-end-forecasting_Demo.ipynb",
      "provenance": [],
      "collapsed_sections": [],
      "mount_file_id": "1RRdKjLn2pLOk85sEnpzMXMBFw423aUCp",
      "authorship_tag": "ABX9TyPHWq6rILribX+TwD62MkSa",
      "include_colab_link": true
    },
    "kernelspec": {
      "name": "python3",
      "display_name": "Python 3"
    },
    "language_info": {
      "name": "python"
    }
  },
  "cells": [
    {
      "cell_type": "markdown",
      "metadata": {
        "id": "view-in-github",
        "colab_type": "text"
      },
      "source": [
        "<a href=\"https://colab.research.google.com/github/frzkhtr/End2End_forecasting_solutions/blob/main/Copy_of_End_2_end_forecasting_Demo.ipynb\" target=\"_parent\"><img src=\"https://colab.research.google.com/assets/colab-badge.svg\" alt=\"Open In Colab\"/></a>"
      ]
    },
    {
      "cell_type": "code",
      "metadata": {
        "id": "6v1bUG3z34bj"
      },
      "source": [
        "import os\n",
        "import warnings\n",
        "warnings.filterwarnings('ignore')\n",
        "from pylab import rcParams\n",
        "rcParams['figure.figsize'] = 10, 6\n",
        "from statsmodels.tsa.stattools import adfuller\n",
        "from statsmodels.tsa.seasonal import seasonal_decompose\n",
        "from statsmodels.tsa.arima_model import ARIMA\n",
        "import statsmodels.api\n",
        "#from statsmodels.tsa.Sarima_model import SARIMA\n",
        "#from pmdarima.arima import auto_arima\n",
        "from sklearn.metrics import mean_squared_error, mean_absolute_error\n",
        "import math\n",
        "import numpy as np\n",
        "import pandas as pd\n",
        "#from nsepy import get_history\n",
        "from datetime import date, timedelta\n",
        "from datetime import datetime\n",
        "import matplotlib.pyplot as plt\n",
        "import seaborn as sns\n",
        "from statsmodels.tsa.stattools import adfuller\n",
        "import holidays\n",
        "%matplotlib inline\n",
        "from sklearn.metrics import mean_squared_error\n",
        "from statsmodels.graphics.tsaplots import plot_acf, plot_pacf\n",
        "from statsmodels.tsa.stattools import acf, pacf\n",
        "import warnings\n",
        "warnings.simplefilter(\"ignore\")\n",
        "from math import sqrt\n",
        "from math import exp\n",
        "from numpy import log\n",
        "from sklearn.model_selection import train_test_split\n",
        "from sklearn.preprocessing import MinMaxScaler, StandardScaler\n",
        "from keras.preprocessing.sequence import TimeseriesGenerator\n",
        "\n",
        "from sklearn import metrics # for the evaluation\n",
        "from sklearn.preprocessing import LabelEncoder,MinMaxScaler\n",
        "import tensorflow as tf "
      ],
      "execution_count": null,
      "outputs": []
    },
    {
      "cell_type": "code",
      "metadata": {
        "id": "C6NsUrDgERcI"
      },
      "source": [
        "def pipeline(data):\n",
        "  print('Ingesting Data....')\n",
        "\n",
        "  horizon_dates = horizon(data, forecast_horizon, freq, series_type)\n",
        "\n",
        "  print(f'Total datapoints: {data.shape[0]}')\n",
        "\n",
        "  data.interpolate(method = 'time', inplace = True) #fill missing values\n",
        "\n",
        "\n",
        "  print('Checking for missing Dates....')\n",
        "  if missing_dates(data) > 0:\n",
        "    print(f'{round(missing_dates(data), 2)}% of dates are missing from dataset!')\n",
        "    print('Imputing Data....')\n",
        "    #imputing the missing date and its values\n",
        "    data_imputed = missing_values(data,columns)\n",
        "    print('Imputation Done. New Dataframe formed...')\n",
        "  else: \n",
        "    print('No missing date!!!')\n",
        "    data_imputed = data.copy()\n",
        "  \n",
        "#roll up the data if possible. \n",
        "  if series_type != rollup_level:\n",
        "    print('Checking Rollup...')\n",
        "    data_imputed = if_roll_up_possible(data_imputed, series_type, rollup_level)\n",
        "\n",
        "\n",
        "  #checking stationarity of data\n",
        "  #return stationarity = True/False, columns which are not stationarity, parameter d, log_transform = True/False\n",
        "  stationarity, non_stationary_columns, d, log_transform = stationarity_check(data_imputed, columns)\n",
        "\n",
        "  #check for seasonality\n",
        "  #return seasonality = True/False and order of seasonality(m)\n",
        "  seasonality, seasonal_order = check_seasonality(data, columns)\n",
        "  trend = False\n",
        "\n",
        "\n",
        "  baseline_model_prediction = forecast_baseline(data_imputed[columns[0]], d[0], horizon_dates)\n",
        "  print(pd.DataFrame({\n",
        "      'Date': horizon_dates,\n",
        "      columns[0] : baseline_model_prediction\n",
        "      }))\n",
        "  models = check_models(data_imputed, columns, trend, seasonality, exo, horizon_dates, d, seasonal_order, log_transform)\n",
        "  predicted = models\n",
        "  print(pd.DataFrame({\n",
        "      'Date': horizon_dates,\n",
        "      columns[0] : predicted\n",
        "      }))\n"
      ],
      "execution_count": null,
      "outputs": []
    },
    {
      "cell_type": "code",
      "metadata": {
        "id": "HpQE_RkaBmIA"
      },
      "source": [
        "#return the dates for the given horizon\n",
        "\n",
        "def horizon(data, forecast_horizon, freq, series_type):  #Input: Data, number of forecast, frequency of date, frequency of series\n",
        "  a =  max(data.index)\n",
        "  if series_type == 0:\n",
        "    b = timedelta(days = 1)\n",
        "    #a = a + b\n",
        "    dates = []\n",
        "    x = 0\n",
        "    while x < forecast_horizon:\n",
        "      a = a + b\n",
        "      dates.append(a.to_pydatetime())\n",
        "      x += 1\n",
        "\n",
        "\n",
        "\n",
        "  if series_type == 1:\n",
        "    b = timedelta(weeks = 1)\n",
        "    #a = a + b\n",
        "    dates = []\n",
        "    x = 0\n",
        "    while x < forecast_horizon:\n",
        "      a = a + b\n",
        "      dates.append(a.to_pydatetime())\n",
        "      x += 1\n",
        "\n",
        "\n",
        "  if series_type == 2:\n",
        "    b = timedelta(days = 30 )\n",
        "    #a = a + b\n",
        "    dates = []\n",
        "    x = 0\n",
        "    while x < forecast_horizon:\n",
        "      a = a + b\n",
        "      dates.append(a.to_pydatetime())\n",
        "      x += 1\n",
        "\n",
        "\n",
        "  if series_type == 3:\n",
        "    b = timedelta(weeks = 13)\n",
        "    #a = a + b\n",
        "    dates = []\n",
        "    x = 0\n",
        "    while x < forecast_horizon:\n",
        "      a = a + b\n",
        "      dates.append(a.to_pydatetime())\n",
        "      x += 1\n",
        "\n",
        "  return dates"
      ],
      "execution_count": null,
      "outputs": []
    },
    {
      "cell_type": "code",
      "metadata": {
        "id": "vp79UAjxIFU1"
      },
      "source": [
        "def missing_values(data,columns):\n",
        "    df1 = pd.DataFrame(pd.date_range(data.index[0],data.index[-1]-timedelta(days=1),freq='d'), columns = [index])\n",
        "    df = data.reset_index()[[index] + columns]\n",
        "    df1 = df1.merge(df, on = index, how = 'left').copy()\n",
        "    #new_col = columns[0] + '_imputed'\n",
        "    \n",
        "    df1.set_index(index, inplace = True, drop = True)\n",
        "    for col in columns:\n",
        "      df1 = interpolate_miss(df1, col)\n",
        "    return df1"
      ],
      "execution_count": null,
      "outputs": []
    },
    {
      "cell_type": "code",
      "metadata": {
        "id": "ZqXWStMLDA2A"
      },
      "source": [
        "def interpolate_miss(data, col):\n",
        "    #new_col = col + '_imputed'\n",
        "    data[col] = data[col].interpolate(method = 'time')\n",
        "    return data"
      ],
      "execution_count": null,
      "outputs": []
    },
    {
      "cell_type": "code",
      "metadata": {
        "id": "bzaXBszJ6Qar"
      },
      "source": [
        "def missing_dates(data):\n",
        "    if (data.index[1] - data.index[0]).days == 1:\n",
        "      should_be = (data.index[-1] - data.index[0]).days\n",
        "      total = data.shape[0]\n",
        "      return ((should_be - total)/total)*100\n",
        "\n",
        "    elif (data.index[1] - data.index[0]).days == 7:\n",
        "      should_be = ((data.index[-1] - data.index[0]).days) / 7\n",
        "      total = data.shape[0]\n",
        "      return ((should_be - total)/total)*100\n",
        "\n",
        "    elif (data.index[1] - data.index[0]).days in [28, 29, 30 ,31] :\n",
        "      should_be = ((data.index[-1] - data.index[0]).days) / 30\n",
        "      total = data.shape[0]\n",
        "      return ((should_be - total)/total)*100\n",
        "\n",
        "    elif (data.index[1] - data.index[0]).days > 360:\n",
        "      should_be = ((data.index[-1] - data.index[0]).days) / 365\n",
        "      total = data.shape[0]\n",
        "      return ((should_be - total)/total)*100"
      ],
      "execution_count": null,
      "outputs": []
    },
    {
      "cell_type": "code",
      "metadata": {
        "id": "OV-AfdgwIHJ0"
      },
      "source": [
        "def if_roll_up_possible(data, series, rollup_level):\n",
        "    if series > rollup_level:\n",
        "        a = series\n",
        "        print(f'Roll up not possible. Please enter from these: {level[a:]}')\n",
        "    else:\n",
        "        dg = data.groupby(pd.Grouper(freq= frequency[rollup_level])).sum()\n",
        "        if dg.shape[0] < 50:\n",
        "            print(f'Data not sufficient')\n",
        "        else:\n",
        "          print(f'Rollup done. Total datapoints after Rollup: {dg.shape[0]}')\n",
        "          return dg\n",
        "        "
      ],
      "execution_count": null,
      "outputs": []
    },
    {
      "cell_type": "code",
      "metadata": {
        "id": "qC9nKqg5YoUo"
      },
      "source": [
        "def d_value(series):\n",
        "  i = 1\n",
        "  adi = 1\n",
        "  while (adi > 0.05) & (i < 5):\n",
        "    series = series.diff().dropna()\n",
        "    adi = adfuller(series)[1]\n",
        "    i += 1\n",
        "  return i"
      ],
      "execution_count": null,
      "outputs": []
    },
    {
      "cell_type": "code",
      "metadata": {
        "id": "7EDn9fEEQwhG"
      },
      "source": [
        "def stationarity_check(data, columns):\n",
        "  print('Checking Stationarity of data...')\n",
        "  dvalue = []\n",
        "  non_stationary_columns = []\n",
        "  stationary = True\n",
        "  for col in columns:\n",
        "    log_transform = False\n",
        "    s = data[col]\n",
        "    ad = adfuller(s)\n",
        "    if ad[1] < 0.05:\n",
        "      print(f'{col} data is stationary')\n",
        "      dvalue.append(0)\n",
        "    else:\n",
        "      non_stationary_columns.append(col)\n",
        "      print(f'{col} data is not stationary...')\n",
        "      print('checking for d value...')\n",
        "      ds = d_value(s)\n",
        "      if ds > 2:\n",
        "        print('Transforming into log data')\n",
        "        s = log(s)\n",
        "        log_transform = True\n",
        "        ds = d_value(s)\n",
        "      dvalue.append(ds)\n",
        "\n",
        "      stationary = False\n",
        "  if stationary == True:\n",
        "    print('Overall data is Stationary')\n",
        "  else:\n",
        "    print('Overall data is not Stationary')\n",
        "  return stationary, non_stationary_columns, dvalue, log_transform"
      ],
      "execution_count": null,
      "outputs": []
    },
    {
      "cell_type": "code",
      "metadata": {
        "id": "oOeIHxcRYm31"
      },
      "source": [
        "def check_seasonality(data, columns):\n",
        "  s = data[columns[0]]\n",
        "  decomposition = seasonal_decompose(s, extrapolate_trend = 'freq',  model = 'additive')\n",
        "  seasonal = decomposition.seasonal\n",
        "  seasonal = seasonal.to_frame()\n",
        "  mean = seasonal.iloc[2,0]\n",
        "  std = seasonal.iloc[3, 0]\n",
        "  done = False\n",
        "  check = 0\n",
        "  i = 1\n",
        "  while done == False:\n",
        "    if (seasonal.iloc[i, 0] - 10) <= seasonal.iloc[0,0] <= (seasonal.iloc[i, 0] + 10):\n",
        "      check = 0\n",
        "      for j in range(10):\n",
        "        if (seasonal.iloc[i + j, 0] - 10) <= seasonal.iloc[j,0] <= (seasonal.iloc[i + j, 0] + 10):\n",
        "          check += 1\n",
        "          if check >= 5:\n",
        "            done = True\n",
        "            seasonality = True\n",
        "          print (i)\n",
        "    i += 1\n",
        "\n",
        "  else:\n",
        "    seasonality = False\n",
        "  #check Seasonality\n",
        "  return seasonality, i"
      ],
      "execution_count": null,
      "outputs": []
    },
    {
      "cell_type": "code",
      "metadata": {
        "id": "duHud85dgFDv"
      },
      "source": [
        "def forecast_baseline(series, d, horizon):\n",
        "  X = series.values\n",
        "  X = [float(x) for x in X]\n",
        "  size = int(len(X) * 0.7)\n",
        "  train, test = X[0:size], X[size:len(X)]\n",
        "  history = [x for x in train]\n",
        "  predictions = list()\n",
        "  # walk-forward validation\n",
        "  for t in range(len(test)):\n",
        "\t  model = ARIMA(history, order=(0,d,0))\n",
        "\t  model_fit = model.fit()\n",
        "\t  output = model_fit.forecast()\n",
        "\t  yhat = output[0]\n",
        "\t  predictions.append(yhat)\n",
        "\t  obs = test[t]\n",
        "\t  history.append(obs)\n",
        "\t  #print('predicted=%f, expected=%f' % (yhat, obs))\n",
        "# evaluate forecasts\n",
        "  rmse = sqrt(mean_squared_error(test, predictions))\n",
        "  print('Test RMSE: %.3f' % rmse)\n",
        "  #plot forecasts against actual outcomes\n",
        "  plt.plot(test)\n",
        "  plt.plot(predictions, color='red')\n",
        "  plt.show()\n",
        "\n",
        "\n",
        "  X = series.values\n",
        "  X = [float(x) for x in X]\n",
        "  #size = int(len(X) * 0.7)\n",
        "  #train, test = X[0:size], X[size:len(X)]\n",
        "  history = [x for x in X]\n",
        "  predictions = list()\n",
        "  # walk-forward validation\n",
        "  for t in range(len(horizon)):\n",
        "\t  model = ARIMA(history, order=(0,d,0))\n",
        "\t  model_fit = model.fit()\n",
        "\t  output = model_fit.forecast()\n",
        "\t  yhat = output[0]\n",
        "\t  predictions.append(yhat)\n",
        "\t  #obs = test[t]\n",
        "\t  history.append(yhat)\n",
        "  return [x[0] for x in predictions] "
      ],
      "execution_count": null,
      "outputs": []
    },
    {
      "cell_type": "code",
      "metadata": {
        "id": "LYfytHXfkzig"
      },
      "source": [
        "def check_models(data, columns, trend, seasonality, exo, horizon_dates, d_value, seasonal_order, log_transform):\n",
        "  if len(columns) == 1:                       #univariate\n",
        "    if trend == False:\n",
        "      if seasonality == False:\n",
        "        if  exo == None:\n",
        "          models = forecast_arima(data[columns[0]], d_value[0], horizon_dates, log_transform)\n",
        "        else:\n",
        "          models = forecast_arimax(data[columns[0]], exo, d_value[0], horizon_dates, log_transform)\n",
        "      else:\n",
        "        if exo == None:\n",
        "          models = forecast_Sarima(data[columns[0]], d_value[0], horizon_dates, seasonal_order,log_transform)\n",
        "        else:\n",
        "          models = forecast_Sarimax(data[columns[0]], exo, d_value[0], horizon_dates, log_transform)\n",
        "    else:\n",
        "      if seasonality == False:\n",
        "        if  exo == None:\n",
        "          models = forecast_arima(data[columns[0]], d_value[0], horizon_dates, log_transform)\n",
        "        else:\n",
        "          models = forecast_arimax(data[columns[0]], exo, d_value[0], horizon_dates, 'log_transform')\n",
        "      else:\n",
        "        if exo == None:\n",
        "          models = forecast_Sarima(data[columns[0]], d_value[0], horizon_dates, seasonal_order,log_transform)\n",
        "        else:\n",
        "          models = forecast_Sarimax(data[columns[0]], exo, d_value[0], horizon_dates)\n",
        "  else:\n",
        "    if trend == False:\n",
        "      if seasonality == False:\n",
        "        if  exo == None:\n",
        "          models = lstm(data, 4)\n",
        "        else:\n",
        "          models = lstm(data, 4)\n",
        "      else:\n",
        "        if exo == None:\n",
        "          models = lstm(data, 4)\n",
        "        else:\n",
        "          models = lstm(data, 4)\n",
        "    else:\n",
        "      if seasonality == False:\n",
        "        if  exo == None:\n",
        "          models = lstm(data, 4)\n",
        "        else:\n",
        "          models = lstm(data, 4)\n",
        "      else:\n",
        "        if exo == None:\n",
        "          models = lstm(data, 4)\n",
        "        else:\n",
        "          models = lstm(data, 4)\n",
        "  return models"
      ],
      "execution_count": null,
      "outputs": []
    },
    {
      "cell_type": "code",
      "metadata": {
        "id": "ny2Puy58wwZT"
      },
      "source": [
        "def forecast_arima(series, d, horizon, log_transform):\n",
        "\toriginal_series = series.copy()\n",
        "\tseries_diff = series.copy()\n",
        "\tdiff = 0\n",
        "\n",
        "\tif log_transform:\n",
        "\t\tseries_diff = log(series_diff)\n",
        "\t\n",
        "\tprint(f'D: {d}')\n",
        "\twhile diff < d:\n",
        "\t\tseries_diff = series_diff.diff().dropna()\n",
        "\t\tdiff += 1\n",
        "\tacf_values = acf(series_diff.values)\n",
        "\tpacf_values = pacf(series_diff.values)\n",
        "\tn = series_diff.shape[0]\n",
        "\tcrit_value = (exp(2*1.96/sqrt(n - 3)-1))/(exp(2*1.96/sqrt(n-3)+1))\n",
        "\tqs = []\n",
        "\tps = []\n",
        "\ti = 1\n",
        "\twhile i < 5:\n",
        "\t\tif (acf_values[1] > crit_value) or (acf_values[1] < -crit_value):\n",
        "\t\t\tqs.append(i)\n",
        "\t\ti += 1\n",
        "\tfor j in range(1, len(qs)):\n",
        "\t\tif (pacf_values[j] > crit_value) or (acf_values[1] < -crit_value):\n",
        "\t\t\tps.append(j)\n",
        "\tprint(qs, ps)\n",
        "\trmse = float('inf')\n",
        "\torder_best = (0, d, 0)\n",
        "\n",
        "\n",
        "\n",
        "\tif log_transform:\n",
        "\t\tseries = log(series)\n",
        "\n",
        "\n",
        "\tfor q in qs:\n",
        "\t\tfor p in ps:\n",
        "\t\t\torder_temp = (p, d, q)\n",
        "\t\t\tprint(order_temp)\n",
        "\t\t\t#val = series.values\n",
        "\t\t\tX = series.values\n",
        "\t\t\tsize = int(len(X) * 0.7)\n",
        "\t\t\ttrain, test = X[0:size], X[size:len(X)]\n",
        "\t\t\thistory = [x for x in train]\n",
        "\t\t\tpredictions = list()\n",
        "\t\t\ttry:\n",
        "\t\t\t\tfor t in range(len(test)):\n",
        "\t\t\t\t\tmodel = ARIMA(history, order=order_temp)\n",
        "\t\t\t\t\tmodel_fit = model.fit(transparams = True)\n",
        "\t\t\t\t\toutput = model_fit.forecast()\n",
        "\t\t\t\t\tyhat = output[0]\n",
        "\t\t\t\t\tpredictions.append(yhat)\n",
        "\t\t\t\t\tobs = test[t]\n",
        "\t\t\t\t\thistory.append(obs)\n",
        "\t  \t\t#print('predicted=%f, expected=%f' % (yhat, obs))\n",
        "\t\t# evaluate forecasts\n",
        "\t\t\t\trmse_temp = sqrt(mean_squared_error(test, predictions))\n",
        "\t\t\t\tprint(rmse_temp)\n",
        "\t\t\t\tif rmse_temp < rmse:\n",
        "\t\t\t\t\trmse = rmse_temp\n",
        "\t\t\t\t\torder_best = order_temp\n",
        "\t\t\t\t\tbest = predictions\n",
        "\n",
        "\t\t\texcept:\n",
        "\t\t\t\tpass\n",
        "\n",
        "\n",
        "\tif rmse == float('inf'):\n",
        "\t\tprint('Baseline model shows best forecast')\n",
        "\t\tbest = forecast_baseline(original_series, d, horizon)\n",
        "\t\n",
        "\telse:\n",
        "\t\tval = series.values\n",
        "\t\thistory = [x for x in val]\n",
        "\t\tpredictions = list()\n",
        "\t\tfor t in range(len(horizon)):\n",
        "\t\t\tmodel = ARIMA(history, order=order_best)\n",
        "\t\t\tmodel_fit = model.fit(transparams = False)\n",
        "\t\t\toutput = model_fit.forecast()\n",
        "\t\t\tyhat = output[0]\n",
        "\t\t\tpredictions.append(yhat)\n",
        "\t\t\t#obs = test[t]\n",
        "\t\t\thistory.append(yhat)\n",
        "\t  \t#print('predicted=%f, expected=%f' % (yhat, obs))\n",
        "\n",
        "\n",
        "\t\t\tprint(f'Total RMSE: {rmse}')\n",
        "\t\t\tplt.plot(test)\n",
        "\t\t\tplt.plot(best, color='red')\n",
        "\t\t\tplt.show()\n",
        "\t\t\tprint(f'best order for ARIMA model: {order_best}')\n",
        " \n",
        "\n",
        "\tif log_transform:\n",
        "\t\tforecasted_data = [exp(x[0]) for x in predictions]\n",
        "\n",
        "\telse:\n",
        "\t\tforecasted_data = [x[0] for x in predictions]\n",
        "\n",
        "\n",
        "\treturn forecasted_data"
      ],
      "execution_count": null,
      "outputs": []
    },
    {
      "cell_type": "code",
      "metadata": {
        "id": "6TPY8_CoMmfu"
      },
      "source": [
        "def forecast_arimax(series, exo, d, horizon, log_transform):\n",
        "\toriginal_series = series.copy()\n",
        "\tseries_diff = series.copy()\n",
        "\tdiff = 0\n",
        "\n",
        "\tif log_transform:\n",
        "\t\tseries_diff = log(series_diff)\n",
        "\t\n",
        "\tprint(f'D: {d}')\n",
        "\twhile diff < d:\n",
        "\t\tseries_diff = series_diff.diff().dropna()\n",
        "\t\tdiff += 1\n",
        "\tacf_values = acf(series_diff.values)\n",
        "\tpacf_values = pacf(series_diff.values)\n",
        "\tn = series_diff.shape[0]\n",
        "\tcrit_value = (exp(2*1.96/sqrt(n - 3)-1))/(exp(2*1.96/sqrt(n-3)+1))\n",
        "\tqs = []\n",
        "\tps = []\n",
        "\ti = 1\n",
        "\twhile i < 5:\n",
        "\t\tif (acf_values[1] > crit_value) or (acf_values[1] < -crit_value):\n",
        "\t\t\tqs.append(i)\n",
        "\t\ti += 1\n",
        "\tfor j in range(1, len(qs)):\n",
        "\t\tif (pacf_values[j] > crit_value) or (acf_values[1] < -crit_value):\n",
        "\t\t\tps.append(j)\n",
        "\tprint(qs, ps)\n",
        "\trmse = float('inf')\n",
        "\torder_best = (0, d, 0)\n",
        "\n",
        "\n",
        "\n",
        "\tif log_transform:\n",
        "\t\tseries = log(series)\n",
        "\n",
        "\n",
        "\tfor q in qs:\n",
        "\t\tfor p in ps:\n",
        "\t\t\torder_temp = (p, d, q)\n",
        "\t\t\tprint(order_temp)\n",
        "\t\t\t#val = series.values\n",
        "\t\t\tX = series.values\n",
        "\t\t\tsize = int(len(X) * 0.7)\n",
        "\t\t\ttrain, test = X[0:size], X[size:len(X)]\n",
        "\t\t\thistory = [x for x in train]\n",
        "\t\t\tpredictions = list()\n",
        "\t\t\ttry:\n",
        "\t\t\t\tfor t in range(len(test)):\n",
        "          #model = sm.tsa.statespace.SARIMAX(history, order - order_temp, seasonal_order = (0,0,0,0) exog = exo)\n",
        "\t\t\t\t\tmodel = sm.tsa.statespace.SARIMAX(history, order - order_temp, seasonal_order = (0,0,0,0), exog = exo)\n",
        "\t\t\t\t\tmodel_fit = model.fit(transparams = True)\n",
        "\t\t\t\t\toutput = model_fit.forecast()\n",
        "\t\t\t\t\tyhat = output[0]\n",
        "\t\t\t\t\tpredictions.append(yhat)\n",
        "\t\t\t\t\tobs = test[t]\n",
        "\t\t\t\t\thistory.append(obs)\n",
        "\t  \t\t#print('predicted=%f, expected=%f' % (yhat, obs))\n",
        "\t\t# evaluate forecasts\n",
        "\t\t\t\trmse_temp = sqrt(mean_squared_error(test, predictions))\n",
        "\t\t\t\tprint(rmse_temp)\n",
        "\t\t\t\tif rmse_temp < rmse:\n",
        "\t\t\t\t\trmse = rmse_temp\n",
        "\t\t\t\t\torder_best = order_temp\n",
        "\t\t\t\t\tbest = predictions\n",
        "\n",
        "\t\t\texcept:\n",
        "\t\t\t\tpass\n",
        "\n",
        "\n",
        "\tif rmse == float('inf'):\n",
        "\t\tprint('Baseline model shows best forecast')\n",
        "\t\tbest = forecast_baseline(original_series, d, horizon)\n",
        "\t\n",
        "\telse:\n",
        "\t\tval = series.values\n",
        "\t\thistory = [x for x in val]\n",
        "\t\tpredictions = list()\n",
        "\t\tfor t in range(len(horizon)):\n",
        "\t\t\tmodel = sm.tsa.statespace.SARIMAX(history, order - order_temp, seasonal_order = (0,0,0,0), exog = exo)\n",
        "\t\t\tmodel_fit = model.fit(transparams = False)\n",
        "\t\t\toutput = model_fit.forecast()\n",
        "\t\t\tyhat = output[0]\n",
        "\t\t\tpredictions.append(yhat)\n",
        "\t\t\t#obs = test[t]\n",
        "\t\t\thistory.append(yhat)\n",
        "\t  \t#print('predicted=%f, expected=%f' % (yhat, obs))\n",
        "\n",
        "\n",
        "\t\t\tprint(f'Total RMSE: {rmse}')\n",
        "\t\t\tplt.plot(test)\n",
        "\t\t\tplt.plot(best, color='red')\n",
        "\t\t\tplt.show()\n",
        "\t\t\tprint(f'best order for ARIMA model: {order_best}')\n",
        " \n",
        "\n",
        "\tif log_transform:\n",
        "\t\tforecasted_data = [exp(x[0]) for x in predictions]\n",
        "\n",
        "\telse:\n",
        "\t\tforecasted_data = [x[0] for x in predictions]\n",
        "\n",
        "\n",
        "\treturn forecasted_data"
      ],
      "execution_count": null,
      "outputs": []
    },
    {
      "cell_type": "code",
      "metadata": {
        "id": "_bHsyi-4eCwz"
      },
      "source": [
        "def forecast_Sarima(series, d, horizon, m,log_transform):\n",
        "  original_series = series.copy()\n",
        "  series_diff = series.copy()\n",
        "  diff = 0\n",
        "\n",
        "  if log_transform:\n",
        "\t  series_diff = log(series_diff)\n",
        "\t\n",
        "  print(f'D: {d}')\n",
        "  while diff < d:\n",
        "    series_diff = series_diff.diff().dropna()\n",
        "    diff += 1\n",
        "  acf_values = acf(series_diff.values)\n",
        "  pacf_values = pacf(series_diff.values)\n",
        "  n = series_diff.shape[0]\n",
        "  crit_value = (exp(2*1.96/sqrt(n - 3)-1))/(exp(2*1.96/sqrt(n-3)+1))\n",
        "  qs = []\n",
        "  ps = []\n",
        "  i = 1\n",
        "  while i < 5:\n",
        "    if (acf_values[1] > crit_value) or (acf_values[1] < -crit_value):\n",
        "      qs.append(i)\n",
        "    i += 1\n",
        "  for j in range(1, len(qs)):\n",
        "    if (pacf_values[j] > crit_value) or (acf_values[1] < -crit_value):\n",
        "      ps.append(j)\n",
        "  print(qs, ps)\n",
        "  rmse = float('inf')\n",
        "  order_best = (0, d, 0)\n",
        "\n",
        "\n",
        "\n",
        "  if log_transform:\n",
        "\t  series = log(series)\n",
        "\n",
        "\n",
        "  for q in qs:\n",
        "    for p in ps:\n",
        "      order_temp = (p, d, q)\n",
        "      seasonal_order_temp = (p, d, q, m)\n",
        "      print(order_temp)\n",
        "\t\t\t#val = series.values\n",
        "      X = series.values\n",
        "      size = int(len(X) * 0.7)\n",
        "      train, test = X[0:size], X[size:len(X)]\n",
        "      history = [x for x in train]\n",
        "      predictions = list()\n",
        "      try:\n",
        "        for t in range(len(test)):\n",
        "          #model = sm.tsa.statespace.SARIMAX(history, order - order_temp, seasonal_order = (0,0,0,0) exog = exo)\n",
        "          model = sm.tsa.statespace.SARIMAX(history, order - order_temp, seasonal_order = seasonal_order_temp, exog = exo)\n",
        "          model_fit = model.fit(transparams = True)\n",
        "          output = model_fit.forecast()\n",
        "          yhat = output[0]\n",
        "          predictions.append(yhat)\n",
        "          obs = test[t]\n",
        "          history.append(obs)\n",
        "\t\t# evaluate forecasts\n",
        "        rmse_temp = sqrt(mean_squared_error(test, predictions))\n",
        "        print(rmse_temp)\n",
        "        if rmse_temp < rmse:\n",
        "          rmse = rmse_temp\n",
        "          order_best = order_temp\n",
        "          best = predictions\n",
        "\n",
        "      except:\n",
        "        pass\n",
        "\n",
        "\n",
        "  if rmse == float('inf'):\n",
        "    print('Baseline model shows best forecast')\n",
        "    best = forecast_baseline(original_series, d, horizon)\n",
        "\t\n",
        "  else:\n",
        "    val = series.values\n",
        "    history = [x for x in val]\n",
        "    predictions = list()\n",
        "    for t in range(len(horizon)):\n",
        "      model = sm.tsa.statespace.SARIMAX(history, order - order_temp, seasonal_order = (0,0,0,0), exog = exo)\n",
        "      model_fit = model.fit(transparams = False)\n",
        "      output = model_fit.forecast()\n",
        "      yhat = output[0]\n",
        "      predictions.append(yhat)\n",
        "      history.append(yhat)\n",
        "\t  \t\n",
        "\n",
        "      print(f'Total RMSE: {rmse}')\n",
        "      plt.plot(test)\n",
        "      plt.plot(best, color='red')\n",
        "      plt.show()\n",
        "      print(f'best order for ARIMA model: {order_best}')\n",
        " \n",
        "\n",
        "  if log_transform:\n",
        "    forecasted_data = [exp(x[0]) for x in predictions]\n",
        "\n",
        "  else:\n",
        "    forecasted_data = [x[0] for x in predictions]\n",
        "\n",
        "\n",
        "  return forecasted_data"
      ],
      "execution_count": null,
      "outputs": []
    },
    {
      "cell_type": "code",
      "metadata": {
        "id": "XoF2DOFZZugi"
      },
      "source": [
        "def lstm(data, forecast_horizon):\n",
        "  n_rows = data.shape[0]\n",
        "  N_features = data.shape[1]\n",
        "  b = int(n_rows / 5)\n",
        "  n = int(n_rows / 10)\n",
        "  scaler = MinMaxScaler()\n",
        "  data_scaled = scaler.fit_transform(data)\n",
        "  features = data_scaled\n",
        "  target = data_scaled[:,0]\n",
        "  #TimeseriesGenerator(features, target, length = n, sampling_rate = 1 , batch_size = b)[]\n",
        "  x_train, x_test, y_train, y_test = train_test_split(features, target, test_size = 0.20, shuffle = False)\n",
        "  train_generator = TimeseriesGenerator(x_train, y_train, length = n, sampling_rate = 1 , batch_size = b)\n",
        "  test_generator = TimeseriesGenerator(x_test, y_test, length = n, sampling_rate = 1 , batch_size = b)\n",
        "\n",
        "\n",
        "  model = tf.keras.Sequential()\n",
        "  model.add(tf.keras.layers.LSTM(128, input_shape = (n, N_features), return_sequences = True))\n",
        "  model.add(tf.keras.layers.LeakyReLU(alpha = 0.5))\n",
        "  model.add(tf.keras.layers.LSTM(128, return_sequences = True))\n",
        "  model.add(tf.keras.layers.LeakyReLU(alpha = 0.5))\n",
        "  model.add(tf.keras.layers.Dropout(0.3))\n",
        "  model.add(tf.keras.layers.LSTM(64, return_sequences = False))\n",
        "  model.add(tf.keras.layers.Dropout(0.3))\n",
        "  model.add(tf.keras.layers.Dense(1))\n",
        "\n",
        "  early_stopping = tf.keras.callbacks.EarlyStopping(monitor = 'val_loss', patience = 10, mode = 'min')\n",
        "\n",
        "\n",
        "  model.compile(loss = tf.losses.MeanAbsoluteError(),\n",
        "              optimizer = tf.optimizers.Adam(),\n",
        "              metrics = [tf.metrics.MeanAbsoluteError()])\n",
        "\n",
        "\n",
        "  history = model.fit_generator(train_generator, epochs= 100, validation_data= test_generator,\n",
        "                              shuffle = False, callbacks = [early_stopping])\n",
        "  \n",
        "  predictions = model.predict_generator(test_generator)\n",
        "  df_pred = pd.concat([pd.DataFrame(predictions), pd.DataFrame(y_test[n:])], axis = 1)\n",
        "  #rev = scaler.inverse_transform(df_pred)\n",
        "  columns =  ['predicted', 'actual']\n",
        "  df_pred.columns = columns\n",
        "  #df_pred['predicted'] = rev[:,0]\n",
        "  #df_pred['actual'] = rev[:,1]\n",
        "\n",
        "  df_pred.plot()\n",
        "\n",
        "  return df_pred\n"
      ],
      "execution_count": null,
      "outputs": []
    },
    {
      "cell_type": "code",
      "metadata": {
        "id": "4wnHDzqECUKM"
      },
      "source": [
        ""
      ],
      "execution_count": null,
      "outputs": []
    },
    {
      "cell_type": "code",
      "metadata": {
        "id": "Mlu7DgGICUAL"
      },
      "source": [
        ""
      ],
      "execution_count": null,
      "outputs": []
    },
    {
      "cell_type": "code",
      "metadata": {
        "id": "uHvGsKKhCT11"
      },
      "source": [
        ""
      ],
      "execution_count": null,
      "outputs": []
    },
    {
      "cell_type": "code",
      "metadata": {
        "id": "o2WYOiar6g_3"
      },
      "source": [
        "\n",
        "#Defining Input Choice\n",
        "\n",
        "dimensions = ['Univariate', 'Multivariate']      #Dimension of data\n",
        "level = ['daily', 'weekly', 'monthly', 'quartely', 'yearly']     #time level of data\n",
        "holidays = ['Weekend', 'Weekday', 'National_holidays', 'Others']  #any holidays to be considered\n",
        "business_in_holidays = [True, False]    #Does business occur in holiday\n",
        "columns = []                            #if univariate, defining column\n",
        "rollup_aggregation = ['Count', 'Average' ]\n",
        "frequency = ['1D', '7D', '1M', '3M', '12M']\n",
        "forecast_horizon = None"
      ],
      "execution_count": null,
      "outputs": []
    },
    {
      "cell_type": "code",
      "metadata": {
        "id": "8760eHGW6jlz"
      },
      "source": [
        "#Input\n",
        "\n",
        "dimension = 'Univariate'\n",
        "series_type = 0\n",
        "rollup_level = 1\n",
        "rollup_aggregation = 'Count'\n",
        "columns = ['Power']\n",
        "index = 'Date'\n",
        "forecast_horizon = 10\n",
        "freq = None\n",
        "exo = None\n",
        "\n",
        "timeseries_data = '/content/drive/MyDrive/Time Series Forecast/Demo_data.xlsx'\n",
        "\n",
        "\n",
        "\n",
        "data = pd.read_excel(timeseries_data, index_col=index,parse_dates=True)\n",
        "data.drop(data.index[0], inplace = True)"
      ],
      "execution_count": null,
      "outputs": []
    },
    {
      "cell_type": "code",
      "metadata": {
        "colab": {
          "base_uri": "https://localhost:8080/",
          "height": 502
        },
        "id": "4gqDWW0XZMiI",
        "outputId": "755a6a08-ced8-4abd-9b35-3f205cfbd23a"
      },
      "source": [
        "pipeline(data)"
      ],
      "execution_count": null,
      "outputs": [
        {
          "output_type": "stream",
          "name": "stdout",
          "text": [
            "Ingesting Data....\n",
            "Total datapoints: 709\n",
            "Checking for missing Dates....\n",
            "2.54% of dates are missing from dataset!\n",
            "Imputing Data....\n",
            "Imputation Done. New Dataframe formed...\n",
            "Checking Rollup...\n",
            "Rollup done. Total datapoints after Rollup: 104\n",
            "Checking Stationarity of data...\n",
            "Power data is stationary\n",
            "Overall data is Stationary\n"
          ]
        },
        {
          "output_type": "error",
          "ename": "ValueError",
          "evalue": "ignored",
          "traceback": [
            "\u001b[0;31m---------------------------------------------------------------------------\u001b[0m",
            "\u001b[0;31mValueError\u001b[0m                                Traceback (most recent call last)",
            "\u001b[0;32m<ipython-input-19-4a94222e9234>\u001b[0m in \u001b[0;36m<module>\u001b[0;34m()\u001b[0m\n\u001b[0;32m----> 1\u001b[0;31m \u001b[0mpipeline\u001b[0m\u001b[0;34m(\u001b[0m\u001b[0mdata\u001b[0m\u001b[0;34m)\u001b[0m\u001b[0;34m\u001b[0m\u001b[0;34m\u001b[0m\u001b[0m\n\u001b[0m",
            "\u001b[0;32m<ipython-input-2-8bc0064447ba>\u001b[0m in \u001b[0;36mpipeline\u001b[0;34m(data)\u001b[0m\n\u001b[1;32m     32\u001b[0m   \u001b[0;31m#check for seasonality\u001b[0m\u001b[0;34m\u001b[0m\u001b[0;34m\u001b[0m\u001b[0;34m\u001b[0m\u001b[0m\n\u001b[1;32m     33\u001b[0m   \u001b[0;31m#return seasonality = True/False and order of seasonality(m)\u001b[0m\u001b[0;34m\u001b[0m\u001b[0;34m\u001b[0m\u001b[0;34m\u001b[0m\u001b[0m\n\u001b[0;32m---> 34\u001b[0;31m   \u001b[0mseasonality\u001b[0m\u001b[0;34m,\u001b[0m \u001b[0mseasonal_order\u001b[0m \u001b[0;34m=\u001b[0m \u001b[0mcheck_seasonality\u001b[0m\u001b[0;34m(\u001b[0m\u001b[0mdata\u001b[0m\u001b[0;34m,\u001b[0m \u001b[0mcolumns\u001b[0m\u001b[0;34m)\u001b[0m\u001b[0;34m\u001b[0m\u001b[0;34m\u001b[0m\u001b[0m\n\u001b[0m\u001b[1;32m     35\u001b[0m   \u001b[0mtrend\u001b[0m \u001b[0;34m=\u001b[0m \u001b[0;32mFalse\u001b[0m\u001b[0;34m\u001b[0m\u001b[0;34m\u001b[0m\u001b[0m\n\u001b[1;32m     36\u001b[0m \u001b[0;34m\u001b[0m\u001b[0m\n",
            "\u001b[0;32m<ipython-input-10-f3d889cfeb23>\u001b[0m in \u001b[0;36mcheck_seasonality\u001b[0;34m(data, columns)\u001b[0m\n\u001b[1;32m      1\u001b[0m \u001b[0;32mdef\u001b[0m \u001b[0mcheck_seasonality\u001b[0m\u001b[0;34m(\u001b[0m\u001b[0mdata\u001b[0m\u001b[0;34m,\u001b[0m \u001b[0mcolumns\u001b[0m\u001b[0;34m)\u001b[0m\u001b[0;34m:\u001b[0m\u001b[0;34m\u001b[0m\u001b[0;34m\u001b[0m\u001b[0m\n\u001b[1;32m      2\u001b[0m   \u001b[0ms\u001b[0m \u001b[0;34m=\u001b[0m \u001b[0mdata\u001b[0m\u001b[0;34m[\u001b[0m\u001b[0mcolumns\u001b[0m\u001b[0;34m[\u001b[0m\u001b[0;36m0\u001b[0m\u001b[0;34m]\u001b[0m\u001b[0;34m]\u001b[0m\u001b[0;34m\u001b[0m\u001b[0;34m\u001b[0m\u001b[0m\n\u001b[0;32m----> 3\u001b[0;31m   \u001b[0mdecomposition\u001b[0m \u001b[0;34m=\u001b[0m \u001b[0mseasonal_decompose\u001b[0m\u001b[0;34m(\u001b[0m\u001b[0ms\u001b[0m\u001b[0;34m,\u001b[0m \u001b[0mextrapolate_trend\u001b[0m \u001b[0;34m=\u001b[0m \u001b[0;34m'freq'\u001b[0m\u001b[0;34m,\u001b[0m  \u001b[0mmodel\u001b[0m \u001b[0;34m=\u001b[0m \u001b[0;34m'additive'\u001b[0m\u001b[0;34m)\u001b[0m\u001b[0;34m\u001b[0m\u001b[0;34m\u001b[0m\u001b[0m\n\u001b[0m\u001b[1;32m      4\u001b[0m   \u001b[0mseasonal\u001b[0m \u001b[0;34m=\u001b[0m \u001b[0mdecomposition\u001b[0m\u001b[0;34m.\u001b[0m\u001b[0mseasonal\u001b[0m\u001b[0;34m\u001b[0m\u001b[0;34m\u001b[0m\u001b[0m\n\u001b[1;32m      5\u001b[0m   \u001b[0mseasonal\u001b[0m \u001b[0;34m=\u001b[0m \u001b[0mseasonal\u001b[0m\u001b[0;34m.\u001b[0m\u001b[0mto_frame\u001b[0m\u001b[0;34m(\u001b[0m\u001b[0;34m)\u001b[0m\u001b[0;34m\u001b[0m\u001b[0;34m\u001b[0m\u001b[0m\n",
            "\u001b[0;32m/usr/local/lib/python3.7/dist-packages/statsmodels/tsa/seasonal.py\u001b[0m in \u001b[0;36mseasonal_decompose\u001b[0;34m(x, model, filt, freq, two_sided, extrapolate_trend)\u001b[0m\n\u001b[1;32m    125\u001b[0m             \u001b[0mfreq\u001b[0m \u001b[0;34m=\u001b[0m \u001b[0mpfreq\u001b[0m\u001b[0;34m\u001b[0m\u001b[0;34m\u001b[0m\u001b[0m\n\u001b[1;32m    126\u001b[0m         \u001b[0;32melse\u001b[0m\u001b[0;34m:\u001b[0m\u001b[0;34m\u001b[0m\u001b[0;34m\u001b[0m\u001b[0m\n\u001b[0;32m--> 127\u001b[0;31m             raise ValueError(\"You must specify a freq or x must be a \"\n\u001b[0m\u001b[1;32m    128\u001b[0m                              \u001b[0;34m\"pandas object with a timeseries index with \"\u001b[0m\u001b[0;34m\u001b[0m\u001b[0;34m\u001b[0m\u001b[0m\n\u001b[1;32m    129\u001b[0m                              \"a freq not set to None\")\n",
            "\u001b[0;31mValueError\u001b[0m: You must specify a freq or x must be a pandas object with a timeseries index with a freq not set to None"
          ]
        }
      ]
    },
    {
      "cell_type": "code",
      "metadata": {
        "id": "TMPQek60AJaB"
      },
      "source": [
        "'''Data Cite : Zhang, Yong; Zhong, Miner; Geng, Nana; Jiang, Yunjian (2017): Forecasting electric vehicles sales with univariate and multivariate time series models: The case of China. PLOS ONE. Dataset. https://doi.org/10.1371/journal.pone.0176729 '''"
      ],
      "execution_count": null,
      "outputs": []
    },
    {
      "cell_type": "code",
      "metadata": {
        "id": "tzyh1TiL3mMf"
      },
      "source": [
        "#Input\n",
        "\n",
        "dimension = 'Univariate'\n",
        "series_type = 2\n",
        "rollup_level = 2\n",
        "rollup_aggregation = None\n",
        "columns = ['BEV sales']\n",
        "index = 'Year/Month'\n",
        "forecast_horizon = 4\n",
        "freq = None\n",
        "\n",
        "exo_data = data = pd.read_csv('/content/drive/MyDrive/Time Series Forecast/Exo_for_sales_data.csv', index_col=index ,parse_dates=True)\n",
        "exo = [x[0] for x in exo_data]\n",
        "\n",
        "timeseries_data = '/content/drive/MyDrive/Time Series Forecast/Sales_Data.csv'\n",
        "\n",
        "data = pd.read_csv(timeseries_data, index_col=index ,parse_dates=True)\n",
        "data[columns[0]] = data[columns[0]].apply(lambda x: float(x))"
      ],
      "execution_count": null,
      "outputs": []
    },
    {
      "cell_type": "code",
      "metadata": {
        "colab": {
          "base_uri": "https://localhost:8080/",
          "height": 1000
        },
        "id": "hr-DBZxsS96y",
        "outputId": "077739cd-d78a-4536-8e57-f1447cc922c2"
      },
      "source": [
        "pipeline(data)"
      ],
      "execution_count": null,
      "outputs": [
        {
          "output_type": "stream",
          "name": "stdout",
          "text": [
            "Ingesting Data....\n",
            "Total datapoints: 60\n",
            "Checking for missing Dates....\n",
            "No missing date!!!\n",
            "Checking Stationarity of data...\n",
            "BEV sales data is not stationary...\n",
            "checking for d value...\n",
            "Transforming into log data\n",
            "Overall data is not Stationary\n",
            "12\n",
            "12\n",
            "12\n",
            "12\n",
            "12\n",
            "12\n",
            "12\n",
            "12\n",
            "12\n",
            "12\n",
            "Test RMSE: 12394.978\n"
          ]
        },
        {
          "output_type": "display_data",
          "data": {
            "image/png": "[encoded data removed]",
            "text/plain": [
              "<Figure size 432x288 with 1 Axes>"
            ]
          },
          "metadata": {
            "needs_background": "light"
          }
        },
        {
          "output_type": "stream",
          "name": "stdout",
          "text": [
            "        Date      BEV sales\n",
            "0 2015-12-31  107322.948276\n",
            "1 2016-01-30  131558.844828\n",
            "2 2016-02-29  156207.689655\n",
            "3 2016-03-30  181269.482759\n",
            "D: 2\n",
            "[1, 2, 3, 4] [1, 2, 3]\n",
            "(1, 2, 1)\n",
            "(2, 2, 1)\n",
            "(3, 2, 1)\n",
            "(1, 2, 2)\n",
            "(2, 2, 2)\n",
            "(3, 2, 2)\n",
            "(1, 2, 3)\n",
            "(2, 2, 3)\n",
            "(3, 2, 3)\n",
            "(1, 2, 4)\n",
            "(2, 2, 4)\n",
            "(3, 2, 4)\n",
            "Baseline model shows best forecast\n",
            "Test RMSE: 12394.978\n"
          ]
        },
        {
          "output_type": "display_data",
          "data": {
            "image/png": "[encoded data removed]",
            "text/plain": [
              "<Figure size 432x288 with 1 Axes>"
            ]
          },
          "metadata": {
            "needs_background": "light"
          }
        },
        {
          "output_type": "error",
          "ename": "ValueError",
          "evalue": "ignored",
          "traceback": [
            "\u001b[0;31m---------------------------------------------------------------------------\u001b[0m",
            "\u001b[0;31mValueError\u001b[0m                                Traceback (most recent call last)",
            "\u001b[0;32m<ipython-input-23-4a94222e9234>\u001b[0m in \u001b[0;36m<module>\u001b[0;34m()\u001b[0m\n\u001b[0;32m----> 1\u001b[0;31m \u001b[0mpipeline\u001b[0m\u001b[0;34m(\u001b[0m\u001b[0mdata\u001b[0m\u001b[0;34m)\u001b[0m\u001b[0;34m\u001b[0m\u001b[0;34m\u001b[0m\u001b[0m\n\u001b[0m",
            "\u001b[0;32m<ipython-input-2-8bc0064447ba>\u001b[0m in \u001b[0;36mpipeline\u001b[0;34m(data)\u001b[0m\n\u001b[1;32m     45\u001b[0m   print(pd.DataFrame({\n\u001b[1;32m     46\u001b[0m       \u001b[0;34m'Date'\u001b[0m\u001b[0;34m:\u001b[0m \u001b[0mhorizon_dates\u001b[0m\u001b[0;34m,\u001b[0m\u001b[0;34m\u001b[0m\u001b[0;34m\u001b[0m\u001b[0m\n\u001b[0;32m---> 47\u001b[0;31m       \u001b[0mcolumns\u001b[0m\u001b[0;34m[\u001b[0m\u001b[0;36m0\u001b[0m\u001b[0;34m]\u001b[0m \u001b[0;34m:\u001b[0m \u001b[0mpredicted\u001b[0m\u001b[0;34m\u001b[0m\u001b[0;34m\u001b[0m\u001b[0m\n\u001b[0m\u001b[1;32m     48\u001b[0m       }))\n",
            "\u001b[0;32m/usr/local/lib/python3.7/dist-packages/pandas/core/frame.py\u001b[0m in \u001b[0;36m__init__\u001b[0;34m(self, data, index, columns, dtype, copy)\u001b[0m\n\u001b[1;32m    466\u001b[0m \u001b[0;34m\u001b[0m\u001b[0m\n\u001b[1;32m    467\u001b[0m         \u001b[0;32melif\u001b[0m \u001b[0misinstance\u001b[0m\u001b[0;34m(\u001b[0m\u001b[0mdata\u001b[0m\u001b[0;34m,\u001b[0m \u001b[0mdict\u001b[0m\u001b[0;34m)\u001b[0m\u001b[0;34m:\u001b[0m\u001b[0;34m\u001b[0m\u001b[0;34m\u001b[0m\u001b[0m\n\u001b[0;32m--> 468\u001b[0;31m             \u001b[0mmgr\u001b[0m \u001b[0;34m=\u001b[0m \u001b[0minit_dict\u001b[0m\u001b[0;34m(\u001b[0m\u001b[0mdata\u001b[0m\u001b[0;34m,\u001b[0m \u001b[0mindex\u001b[0m\u001b[0;34m,\u001b[0m \u001b[0mcolumns\u001b[0m\u001b[0;34m,\u001b[0m \u001b[0mdtype\u001b[0m\u001b[0;34m=\u001b[0m\u001b[0mdtype\u001b[0m\u001b[0;34m)\u001b[0m\u001b[0;34m\u001b[0m\u001b[0;34m\u001b[0m\u001b[0m\n\u001b[0m\u001b[1;32m    469\u001b[0m         \u001b[0;32melif\u001b[0m \u001b[0misinstance\u001b[0m\u001b[0;34m(\u001b[0m\u001b[0mdata\u001b[0m\u001b[0;34m,\u001b[0m \u001b[0mma\u001b[0m\u001b[0;34m.\u001b[0m\u001b[0mMaskedArray\u001b[0m\u001b[0;34m)\u001b[0m\u001b[0;34m:\u001b[0m\u001b[0;34m\u001b[0m\u001b[0;34m\u001b[0m\u001b[0m\n\u001b[1;32m    470\u001b[0m             \u001b[0;32mimport\u001b[0m \u001b[0mnumpy\u001b[0m\u001b[0;34m.\u001b[0m\u001b[0mma\u001b[0m\u001b[0;34m.\u001b[0m\u001b[0mmrecords\u001b[0m \u001b[0;32mas\u001b[0m \u001b[0mmrecords\u001b[0m\u001b[0;34m\u001b[0m\u001b[0;34m\u001b[0m\u001b[0m\n",
            "\u001b[0;32m/usr/local/lib/python3.7/dist-packages/pandas/core/internals/construction.py\u001b[0m in \u001b[0;36minit_dict\u001b[0;34m(data, index, columns, dtype)\u001b[0m\n\u001b[1;32m    281\u001b[0m             \u001b[0marr\u001b[0m \u001b[0;32mif\u001b[0m \u001b[0;32mnot\u001b[0m \u001b[0mis_datetime64tz_dtype\u001b[0m\u001b[0;34m(\u001b[0m\u001b[0marr\u001b[0m\u001b[0;34m)\u001b[0m \u001b[0;32melse\u001b[0m \u001b[0marr\u001b[0m\u001b[0;34m.\u001b[0m\u001b[0mcopy\u001b[0m\u001b[0;34m(\u001b[0m\u001b[0;34m)\u001b[0m \u001b[0;32mfor\u001b[0m \u001b[0marr\u001b[0m \u001b[0;32min\u001b[0m \u001b[0marrays\u001b[0m\u001b[0;34m\u001b[0m\u001b[0;34m\u001b[0m\u001b[0m\n\u001b[1;32m    282\u001b[0m         ]\n\u001b[0;32m--> 283\u001b[0;31m     \u001b[0;32mreturn\u001b[0m \u001b[0marrays_to_mgr\u001b[0m\u001b[0;34m(\u001b[0m\u001b[0marrays\u001b[0m\u001b[0;34m,\u001b[0m \u001b[0mdata_names\u001b[0m\u001b[0;34m,\u001b[0m \u001b[0mindex\u001b[0m\u001b[0;34m,\u001b[0m \u001b[0mcolumns\u001b[0m\u001b[0;34m,\u001b[0m \u001b[0mdtype\u001b[0m\u001b[0;34m=\u001b[0m\u001b[0mdtype\u001b[0m\u001b[0;34m)\u001b[0m\u001b[0;34m\u001b[0m\u001b[0;34m\u001b[0m\u001b[0m\n\u001b[0m\u001b[1;32m    284\u001b[0m \u001b[0;34m\u001b[0m\u001b[0m\n\u001b[1;32m    285\u001b[0m \u001b[0;34m\u001b[0m\u001b[0m\n",
            "\u001b[0;32m/usr/local/lib/python3.7/dist-packages/pandas/core/internals/construction.py\u001b[0m in \u001b[0;36marrays_to_mgr\u001b[0;34m(arrays, arr_names, index, columns, dtype, verify_integrity)\u001b[0m\n\u001b[1;32m     76\u001b[0m         \u001b[0;31m# figure out the index, if necessary\u001b[0m\u001b[0;34m\u001b[0m\u001b[0;34m\u001b[0m\u001b[0;34m\u001b[0m\u001b[0m\n\u001b[1;32m     77\u001b[0m         \u001b[0;32mif\u001b[0m \u001b[0mindex\u001b[0m \u001b[0;32mis\u001b[0m \u001b[0;32mNone\u001b[0m\u001b[0;34m:\u001b[0m\u001b[0;34m\u001b[0m\u001b[0;34m\u001b[0m\u001b[0m\n\u001b[0;32m---> 78\u001b[0;31m             \u001b[0mindex\u001b[0m \u001b[0;34m=\u001b[0m \u001b[0mextract_index\u001b[0m\u001b[0;34m(\u001b[0m\u001b[0marrays\u001b[0m\u001b[0;34m)\u001b[0m\u001b[0;34m\u001b[0m\u001b[0;34m\u001b[0m\u001b[0m\n\u001b[0m\u001b[1;32m     79\u001b[0m         \u001b[0;32melse\u001b[0m\u001b[0;34m:\u001b[0m\u001b[0;34m\u001b[0m\u001b[0;34m\u001b[0m\u001b[0m\n\u001b[1;32m     80\u001b[0m             \u001b[0mindex\u001b[0m \u001b[0;34m=\u001b[0m \u001b[0mensure_index\u001b[0m\u001b[0;34m(\u001b[0m\u001b[0mindex\u001b[0m\u001b[0;34m)\u001b[0m\u001b[0;34m\u001b[0m\u001b[0;34m\u001b[0m\u001b[0m\n",
            "\u001b[0;32m/usr/local/lib/python3.7/dist-packages/pandas/core/internals/construction.py\u001b[0m in \u001b[0;36mextract_index\u001b[0;34m(data)\u001b[0m\n\u001b[1;32m    395\u001b[0m             \u001b[0mlengths\u001b[0m \u001b[0;34m=\u001b[0m \u001b[0mlist\u001b[0m\u001b[0;34m(\u001b[0m\u001b[0mset\u001b[0m\u001b[0;34m(\u001b[0m\u001b[0mraw_lengths\u001b[0m\u001b[0;34m)\u001b[0m\u001b[0;34m)\u001b[0m\u001b[0;34m\u001b[0m\u001b[0;34m\u001b[0m\u001b[0m\n\u001b[1;32m    396\u001b[0m             \u001b[0;32mif\u001b[0m \u001b[0mlen\u001b[0m\u001b[0;34m(\u001b[0m\u001b[0mlengths\u001b[0m\u001b[0;34m)\u001b[0m \u001b[0;34m>\u001b[0m \u001b[0;36m1\u001b[0m\u001b[0;34m:\u001b[0m\u001b[0;34m\u001b[0m\u001b[0;34m\u001b[0m\u001b[0m\n\u001b[0;32m--> 397\u001b[0;31m                 \u001b[0;32mraise\u001b[0m \u001b[0mValueError\u001b[0m\u001b[0;34m(\u001b[0m\u001b[0;34m\"arrays must all be same length\"\u001b[0m\u001b[0;34m)\u001b[0m\u001b[0;34m\u001b[0m\u001b[0;34m\u001b[0m\u001b[0m\n\u001b[0m\u001b[1;32m    398\u001b[0m \u001b[0;34m\u001b[0m\u001b[0m\n\u001b[1;32m    399\u001b[0m             \u001b[0;32mif\u001b[0m \u001b[0mhave_dicts\u001b[0m\u001b[0;34m:\u001b[0m\u001b[0;34m\u001b[0m\u001b[0;34m\u001b[0m\u001b[0m\n",
            "\u001b[0;31mValueError\u001b[0m: arrays must all be same length"
          ]
        }
      ]
    },
    {
      "cell_type": "code",
      "metadata": {
        "id": "rTY4ahV4VMg4"
      },
      "source": [
        "#Input\n",
        "\n",
        "dimension = 'Multuvariate'\n",
        "series_type = 2\n",
        "rollup_level = 2\n",
        "rollup_aggregation = None\n",
        "#holiday = ['Weekend', 'National_holidays']\n",
        "#other = [False]\n",
        "#business = False\n",
        "columns = ['BEV sales', 'PHEV sales']\n",
        "index = 'Year/Month'\n",
        "forecast_horizon = 4\n",
        "freq = None\n",
        "\n",
        "exo_data = data = pd.read_csv('/content/drive/MyDrive/Time Series Forecast/Exo_for_sales_data.csv', index_col=index ,parse_dates=True)\n",
        "exo = None\n",
        "\n",
        "timeseries_data = '/content/drive/MyDrive/Time Series Forecast/Sales_Data.csv'\n",
        "\n",
        "data = pd.read_csv(timeseries_data, index_col= index ,parse_dates=True)\n",
        "#data.drop(data.index[0], inplace = True)\n",
        "#data[columns[0]] = data[columns[0]].apply(lambda x: float(x))"
      ],
      "execution_count": null,
      "outputs": []
    },
    {
      "cell_type": "code",
      "metadata": {
        "colab": {
          "base_uri": "https://localhost:8080/",
          "height": 237
        },
        "id": "y39JTtfhmD87",
        "outputId": "9fedc4f4-755b-4777-d596-b21c889ee8bc"
      },
      "source": [
        "#data = pd.read_csv(timeseries_data)\n",
        "data.head()"
      ],
      "execution_count": null,
      "outputs": [
        {
          "output_type": "execute_result",
          "data": {
            "text/html": [
              "<div>\n",
              "<style scoped>\n",
              "    .dataframe tbody tr th:only-of-type {\n",
              "        vertical-align: middle;\n",
              "    }\n",
              "\n",
              "    .dataframe tbody tr th {\n",
              "        vertical-align: top;\n",
              "    }\n",
              "\n",
              "    .dataframe thead th {\n",
              "        text-align: right;\n",
              "    }\n",
              "</style>\n",
              "<table border=\"1\" class=\"dataframe\">\n",
              "  <thead>\n",
              "    <tr style=\"text-align: right;\">\n",
              "      <th></th>\n",
              "      <th>BEV sales</th>\n",
              "      <th>PHEV sales</th>\n",
              "    </tr>\n",
              "    <tr>\n",
              "      <th>Year/Month</th>\n",
              "      <th></th>\n",
              "      <th></th>\n",
              "    </tr>\n",
              "  </thead>\n",
              "  <tbody>\n",
              "    <tr>\n",
              "      <th>2011-01-01</th>\n",
              "      <td>588</td>\n",
              "      <td>310</td>\n",
              "    </tr>\n",
              "    <tr>\n",
              "      <th>2011-02-01</th>\n",
              "      <td>47</td>\n",
              "      <td>417</td>\n",
              "    </tr>\n",
              "    <tr>\n",
              "      <th>2011-03-01</th>\n",
              "      <td>159</td>\n",
              "      <td>286</td>\n",
              "    </tr>\n",
              "    <tr>\n",
              "      <th>2011-04-01</th>\n",
              "      <td>173</td>\n",
              "      <td>162</td>\n",
              "    </tr>\n",
              "    <tr>\n",
              "      <th>2011-05-01</th>\n",
              "      <td>305</td>\n",
              "      <td>470</td>\n",
              "    </tr>\n",
              "  </tbody>\n",
              "</table>\n",
              "</div>"
            ],
            "text/plain": [
              "            BEV sales  PHEV sales\n",
              "Year/Month                       \n",
              "2011-01-01        588         310\n",
              "2011-02-01         47         417\n",
              "2011-03-01        159         286\n",
              "2011-04-01        173         162\n",
              "2011-05-01        305         470"
            ]
          },
          "metadata": {},
          "execution_count": 31
        }
      ]
    },
    {
      "cell_type": "code",
      "metadata": {
        "colab": {
          "base_uri": "https://localhost:8080/",
          "height": 1000
        },
        "id": "A1QFeCqtpCkg",
        "outputId": "dc1eb626-2a7b-4344-938c-ccb0c430c0de"
      },
      "source": [
        "pipeline(data)"
      ],
      "execution_count": null,
      "outputs": [
        {
          "output_type": "stream",
          "name": "stdout",
          "text": [
            "Ingesting Data....\n",
            "Total datapoints: 60\n",
            "Checking for missing Dates....\n",
            "No missing date!!!\n",
            "Checking Stationarity of data...\n",
            "BEV sales data is not stationary...\n",
            "checking for d value...\n",
            "Transforming into log data\n",
            "PHEV sales data is not stationary...\n",
            "checking for d value...\n",
            "Transforming into log data\n",
            "Overall data is not Stationary\n",
            "12\n",
            "12\n",
            "12\n",
            "12\n",
            "12\n",
            "12\n",
            "12\n",
            "12\n",
            "12\n",
            "12\n",
            "Test RMSE: 12394.978\n"
          ]
        },
        {
          "output_type": "display_data",
          "data": {
            "image/png": "[encoded data removed]",
            "text/plain": [
              "<Figure size 432x288 with 1 Axes>"
            ]
          },
          "metadata": {
            "needs_background": "light"
          }
        },
        {
          "output_type": "stream",
          "name": "stdout",
          "text": [
            "        Date      BEV sales\n",
            "0 2015-12-31  107322.948276\n",
            "1 2016-01-30  131558.844828\n",
            "2 2016-02-29  156207.689655\n",
            "3 2016-03-30  181269.482759\n",
            "Epoch 1/100\n",
            "4/4 [==============================] - 7s 417ms/step - loss: 0.0189 - mean_absolute_error: 0.0189 - val_loss: 0.3795 - val_mean_absolute_error: 0.3795\n",
            "Epoch 2/100\n",
            "4/4 [==============================] - 0s 30ms/step - loss: 0.0243 - mean_absolute_error: 0.0243 - val_loss: 0.3834 - val_mean_absolute_error: 0.3834\n",
            "Epoch 3/100\n",
            "4/4 [==============================] - 0s 32ms/step - loss: 0.0231 - mean_absolute_error: 0.0231 - val_loss: 0.3871 - val_mean_absolute_error: 0.3871\n",
            "Epoch 4/100\n",
            "4/4 [==============================] - 0s 35ms/step - loss: 0.0195 - mean_absolute_error: 0.0195 - val_loss: 0.3767 - val_mean_absolute_error: 0.3767\n",
            "Epoch 5/100\n",
            "4/4 [==============================] - 0s 32ms/step - loss: 0.0201 - mean_absolute_error: 0.0201 - val_loss: 0.3657 - val_mean_absolute_error: 0.3657\n",
            "Epoch 6/100\n",
            "4/4 [==============================] - 0s 32ms/step - loss: 0.0218 - mean_absolute_error: 0.0218 - val_loss: 0.3587 - val_mean_absolute_error: 0.3587\n",
            "Epoch 7/100\n",
            "4/4 [==============================] - 0s 35ms/step - loss: 0.0202 - mean_absolute_error: 0.0202 - val_loss: 0.3530 - val_mean_absolute_error: 0.3530\n",
            "Epoch 8/100\n",
            "4/4 [==============================] - 0s 30ms/step - loss: 0.0196 - mean_absolute_error: 0.0196 - val_loss: 0.3422 - val_mean_absolute_error: 0.3422\n",
            "Epoch 9/100\n",
            "4/4 [==============================] - 0s 33ms/step - loss: 0.0194 - mean_absolute_error: 0.0194 - val_loss: 0.3253 - val_mean_absolute_error: 0.3253\n",
            "Epoch 10/100\n",
            "4/4 [==============================] - 0s 32ms/step - loss: 0.0195 - mean_absolute_error: 0.0195 - val_loss: 0.3097 - val_mean_absolute_error: 0.3097\n",
            "Epoch 11/100\n",
            "4/4 [==============================] - 0s 32ms/step - loss: 0.0195 - mean_absolute_error: 0.0195 - val_loss: 0.2949 - val_mean_absolute_error: 0.2949\n",
            "Epoch 12/100\n",
            "4/4 [==============================] - 0s 32ms/step - loss: 0.0188 - mean_absolute_error: 0.0188 - val_loss: 0.2694 - val_mean_absolute_error: 0.2694\n",
            "Epoch 13/100\n",
            "4/4 [==============================] - 0s 32ms/step - loss: 0.0194 - mean_absolute_error: 0.0194 - val_loss: 0.2422 - val_mean_absolute_error: 0.2422\n",
            "Epoch 14/100\n",
            "4/4 [==============================] - 0s 33ms/step - loss: 0.0193 - mean_absolute_error: 0.0193 - val_loss: 0.2193 - val_mean_absolute_error: 0.2193\n",
            "Epoch 15/100\n",
            "4/4 [==============================] - 0s 30ms/step - loss: 0.0206 - mean_absolute_error: 0.0206 - val_loss: 0.2043 - val_mean_absolute_error: 0.2043\n",
            "Epoch 16/100\n",
            "4/4 [==============================] - 0s 31ms/step - loss: 0.0197 - mean_absolute_error: 0.0197 - val_loss: 0.1980 - val_mean_absolute_error: 0.1980\n",
            "Epoch 17/100\n",
            "4/4 [==============================] - 0s 35ms/step - loss: 0.0182 - mean_absolute_error: 0.0182 - val_loss: 0.1946 - val_mean_absolute_error: 0.1946\n",
            "Epoch 18/100\n",
            "4/4 [==============================] - 0s 31ms/step - loss: 0.0190 - mean_absolute_error: 0.0190 - val_loss: 0.1909 - val_mean_absolute_error: 0.1909\n",
            "Epoch 19/100\n",
            "4/4 [==============================] - 0s 33ms/step - loss: 0.0192 - mean_absolute_error: 0.0192 - val_loss: 0.1893 - val_mean_absolute_error: 0.1893\n",
            "Epoch 20/100\n",
            "4/4 [==============================] - 0s 30ms/step - loss: 0.0179 - mean_absolute_error: 0.0179 - val_loss: 0.1905 - val_mean_absolute_error: 0.1905\n",
            "Epoch 21/100\n",
            "4/4 [==============================] - 0s 30ms/step - loss: 0.0218 - mean_absolute_error: 0.0218 - val_loss: 0.1865 - val_mean_absolute_error: 0.1865\n",
            "Epoch 22/100\n",
            "4/4 [==============================] - 0s 35ms/step - loss: 0.0196 - mean_absolute_error: 0.0196 - val_loss: 0.1853 - val_mean_absolute_error: 0.1853\n",
            "Epoch 23/100\n",
            "4/4 [==============================] - 0s 31ms/step - loss: 0.0161 - mean_absolute_error: 0.0161 - val_loss: 0.1885 - val_mean_absolute_error: 0.1885\n",
            "Epoch 24/100\n",
            "4/4 [==============================] - 0s 33ms/step - loss: 0.0194 - mean_absolute_error: 0.0194 - val_loss: 0.1863 - val_mean_absolute_error: 0.1863\n",
            "Epoch 25/100\n",
            "4/4 [==============================] - 0s 32ms/step - loss: 0.0172 - mean_absolute_error: 0.0172 - val_loss: 0.1872 - val_mean_absolute_error: 0.1872\n",
            "Epoch 26/100\n",
            "4/4 [==============================] - 0s 32ms/step - loss: 0.0170 - mean_absolute_error: 0.0170 - val_loss: 0.1898 - val_mean_absolute_error: 0.1898\n",
            "Epoch 27/100\n",
            "4/4 [==============================] - 0s 32ms/step - loss: 0.0169 - mean_absolute_error: 0.0169 - val_loss: 0.1900 - val_mean_absolute_error: 0.1900\n",
            "Epoch 28/100\n",
            "4/4 [==============================] - 0s 37ms/step - loss: 0.0171 - mean_absolute_error: 0.0171 - val_loss: 0.1945 - val_mean_absolute_error: 0.1945\n",
            "Epoch 29/100\n",
            "4/4 [==============================] - 0s 33ms/step - loss: 0.0173 - mean_absolute_error: 0.0173 - val_loss: 0.1927 - val_mean_absolute_error: 0.1927\n",
            "Epoch 30/100\n",
            "4/4 [==============================] - 0s 34ms/step - loss: 0.0162 - mean_absolute_error: 0.0162 - val_loss: 0.1957 - val_mean_absolute_error: 0.1957\n",
            "Epoch 31/100\n",
            "4/4 [==============================] - 0s 33ms/step - loss: 0.0196 - mean_absolute_error: 0.0196 - val_loss: 0.1895 - val_mean_absolute_error: 0.1895\n",
            "Epoch 32/100\n",
            "4/4 [==============================] - 0s 36ms/step - loss: 0.0176 - mean_absolute_error: 0.0176 - val_loss: 0.1896 - val_mean_absolute_error: 0.1896\n"
          ]
        },
        {
          "output_type": "error",
          "ename": "ValueError",
          "evalue": "ignored",
          "traceback": [
            "\u001b[0;31m---------------------------------------------------------------------------\u001b[0m",
            "\u001b[0;31mValueError\u001b[0m                                Traceback (most recent call last)",
            "\u001b[0;32m<ipython-input-32-4a94222e9234>\u001b[0m in \u001b[0;36m<module>\u001b[0;34m()\u001b[0m\n\u001b[0;32m----> 1\u001b[0;31m \u001b[0mpipeline\u001b[0m\u001b[0;34m(\u001b[0m\u001b[0mdata\u001b[0m\u001b[0;34m)\u001b[0m\u001b[0;34m\u001b[0m\u001b[0;34m\u001b[0m\u001b[0m\n\u001b[0m",
            "\u001b[0;32m<ipython-input-2-8bc0064447ba>\u001b[0m in \u001b[0;36mpipeline\u001b[0;34m(data)\u001b[0m\n\u001b[1;32m     45\u001b[0m   print(pd.DataFrame({\n\u001b[1;32m     46\u001b[0m       \u001b[0;34m'Date'\u001b[0m\u001b[0;34m:\u001b[0m \u001b[0mhorizon_dates\u001b[0m\u001b[0;34m,\u001b[0m\u001b[0;34m\u001b[0m\u001b[0;34m\u001b[0m\u001b[0m\n\u001b[0;32m---> 47\u001b[0;31m       \u001b[0mcolumns\u001b[0m\u001b[0;34m[\u001b[0m\u001b[0;36m0\u001b[0m\u001b[0;34m]\u001b[0m \u001b[0;34m:\u001b[0m \u001b[0mpredicted\u001b[0m\u001b[0;34m\u001b[0m\u001b[0;34m\u001b[0m\u001b[0m\n\u001b[0m\u001b[1;32m     48\u001b[0m       }))\n",
            "\u001b[0;32m/usr/local/lib/python3.7/dist-packages/pandas/core/frame.py\u001b[0m in \u001b[0;36m__init__\u001b[0;34m(self, data, index, columns, dtype, copy)\u001b[0m\n\u001b[1;32m    466\u001b[0m \u001b[0;34m\u001b[0m\u001b[0m\n\u001b[1;32m    467\u001b[0m         \u001b[0;32melif\u001b[0m \u001b[0misinstance\u001b[0m\u001b[0;34m(\u001b[0m\u001b[0mdata\u001b[0m\u001b[0;34m,\u001b[0m \u001b[0mdict\u001b[0m\u001b[0;34m)\u001b[0m\u001b[0;34m:\u001b[0m\u001b[0;34m\u001b[0m\u001b[0;34m\u001b[0m\u001b[0m\n\u001b[0;32m--> 468\u001b[0;31m             \u001b[0mmgr\u001b[0m \u001b[0;34m=\u001b[0m \u001b[0minit_dict\u001b[0m\u001b[0;34m(\u001b[0m\u001b[0mdata\u001b[0m\u001b[0;34m,\u001b[0m \u001b[0mindex\u001b[0m\u001b[0;34m,\u001b[0m \u001b[0mcolumns\u001b[0m\u001b[0;34m,\u001b[0m \u001b[0mdtype\u001b[0m\u001b[0;34m=\u001b[0m\u001b[0mdtype\u001b[0m\u001b[0;34m)\u001b[0m\u001b[0;34m\u001b[0m\u001b[0;34m\u001b[0m\u001b[0m\n\u001b[0m\u001b[1;32m    469\u001b[0m         \u001b[0;32melif\u001b[0m \u001b[0misinstance\u001b[0m\u001b[0;34m(\u001b[0m\u001b[0mdata\u001b[0m\u001b[0;34m,\u001b[0m \u001b[0mma\u001b[0m\u001b[0;34m.\u001b[0m\u001b[0mMaskedArray\u001b[0m\u001b[0;34m)\u001b[0m\u001b[0;34m:\u001b[0m\u001b[0;34m\u001b[0m\u001b[0;34m\u001b[0m\u001b[0m\n\u001b[1;32m    470\u001b[0m             \u001b[0;32mimport\u001b[0m \u001b[0mnumpy\u001b[0m\u001b[0;34m.\u001b[0m\u001b[0mma\u001b[0m\u001b[0;34m.\u001b[0m\u001b[0mmrecords\u001b[0m \u001b[0;32mas\u001b[0m \u001b[0mmrecords\u001b[0m\u001b[0;34m\u001b[0m\u001b[0;34m\u001b[0m\u001b[0m\n",
            "\u001b[0;32m/usr/local/lib/python3.7/dist-packages/pandas/core/internals/construction.py\u001b[0m in \u001b[0;36minit_dict\u001b[0;34m(data, index, columns, dtype)\u001b[0m\n\u001b[1;32m    281\u001b[0m             \u001b[0marr\u001b[0m \u001b[0;32mif\u001b[0m \u001b[0;32mnot\u001b[0m \u001b[0mis_datetime64tz_dtype\u001b[0m\u001b[0;34m(\u001b[0m\u001b[0marr\u001b[0m\u001b[0;34m)\u001b[0m \u001b[0;32melse\u001b[0m \u001b[0marr\u001b[0m\u001b[0;34m.\u001b[0m\u001b[0mcopy\u001b[0m\u001b[0;34m(\u001b[0m\u001b[0;34m)\u001b[0m \u001b[0;32mfor\u001b[0m \u001b[0marr\u001b[0m \u001b[0;32min\u001b[0m \u001b[0marrays\u001b[0m\u001b[0;34m\u001b[0m\u001b[0;34m\u001b[0m\u001b[0m\n\u001b[1;32m    282\u001b[0m         ]\n\u001b[0;32m--> 283\u001b[0;31m     \u001b[0;32mreturn\u001b[0m \u001b[0marrays_to_mgr\u001b[0m\u001b[0;34m(\u001b[0m\u001b[0marrays\u001b[0m\u001b[0;34m,\u001b[0m \u001b[0mdata_names\u001b[0m\u001b[0;34m,\u001b[0m \u001b[0mindex\u001b[0m\u001b[0;34m,\u001b[0m \u001b[0mcolumns\u001b[0m\u001b[0;34m,\u001b[0m \u001b[0mdtype\u001b[0m\u001b[0;34m=\u001b[0m\u001b[0mdtype\u001b[0m\u001b[0;34m)\u001b[0m\u001b[0;34m\u001b[0m\u001b[0;34m\u001b[0m\u001b[0m\n\u001b[0m\u001b[1;32m    284\u001b[0m \u001b[0;34m\u001b[0m\u001b[0m\n\u001b[1;32m    285\u001b[0m \u001b[0;34m\u001b[0m\u001b[0m\n",
            "\u001b[0;32m/usr/local/lib/python3.7/dist-packages/pandas/core/internals/construction.py\u001b[0m in \u001b[0;36marrays_to_mgr\u001b[0;34m(arrays, arr_names, index, columns, dtype, verify_integrity)\u001b[0m\n\u001b[1;32m     91\u001b[0m     \u001b[0maxes\u001b[0m \u001b[0;34m=\u001b[0m \u001b[0;34m[\u001b[0m\u001b[0mcolumns\u001b[0m\u001b[0;34m,\u001b[0m \u001b[0mindex\u001b[0m\u001b[0;34m]\u001b[0m\u001b[0;34m\u001b[0m\u001b[0;34m\u001b[0m\u001b[0m\n\u001b[1;32m     92\u001b[0m \u001b[0;34m\u001b[0m\u001b[0m\n\u001b[0;32m---> 93\u001b[0;31m     \u001b[0;32mreturn\u001b[0m \u001b[0mcreate_block_manager_from_arrays\u001b[0m\u001b[0;34m(\u001b[0m\u001b[0marrays\u001b[0m\u001b[0;34m,\u001b[0m \u001b[0marr_names\u001b[0m\u001b[0;34m,\u001b[0m \u001b[0maxes\u001b[0m\u001b[0;34m)\u001b[0m\u001b[0;34m\u001b[0m\u001b[0;34m\u001b[0m\u001b[0m\n\u001b[0m\u001b[1;32m     94\u001b[0m \u001b[0;34m\u001b[0m\u001b[0m\n\u001b[1;32m     95\u001b[0m \u001b[0;34m\u001b[0m\u001b[0m\n",
            "\u001b[0;32m/usr/local/lib/python3.7/dist-packages/pandas/core/internals/managers.py\u001b[0m in \u001b[0;36mcreate_block_manager_from_arrays\u001b[0;34m(arrays, names, axes)\u001b[0m\n\u001b[1;32m   1695\u001b[0m         \u001b[0;32mreturn\u001b[0m \u001b[0mmgr\u001b[0m\u001b[0;34m\u001b[0m\u001b[0;34m\u001b[0m\u001b[0m\n\u001b[1;32m   1696\u001b[0m     \u001b[0;32mexcept\u001b[0m \u001b[0mValueError\u001b[0m \u001b[0;32mas\u001b[0m \u001b[0me\u001b[0m\u001b[0;34m:\u001b[0m\u001b[0;34m\u001b[0m\u001b[0;34m\u001b[0m\u001b[0m\n\u001b[0;32m-> 1697\u001b[0;31m         \u001b[0;32mraise\u001b[0m \u001b[0mconstruction_error\u001b[0m\u001b[0;34m(\u001b[0m\u001b[0mlen\u001b[0m\u001b[0;34m(\u001b[0m\u001b[0marrays\u001b[0m\u001b[0;34m)\u001b[0m\u001b[0;34m,\u001b[0m \u001b[0marrays\u001b[0m\u001b[0;34m[\u001b[0m\u001b[0;36m0\u001b[0m\u001b[0;34m]\u001b[0m\u001b[0;34m.\u001b[0m\u001b[0mshape\u001b[0m\u001b[0;34m,\u001b[0m \u001b[0maxes\u001b[0m\u001b[0;34m,\u001b[0m \u001b[0me\u001b[0m\u001b[0;34m)\u001b[0m\u001b[0;34m\u001b[0m\u001b[0;34m\u001b[0m\u001b[0m\n\u001b[0m\u001b[1;32m   1698\u001b[0m \u001b[0;34m\u001b[0m\u001b[0m\n\u001b[1;32m   1699\u001b[0m \u001b[0;34m\u001b[0m\u001b[0m\n",
            "\u001b[0;32m/usr/local/lib/python3.7/dist-packages/pandas/core/internals/managers.py\u001b[0m in \u001b[0;36mcreate_block_manager_from_arrays\u001b[0;34m(arrays, names, axes)\u001b[0m\n\u001b[1;32m   1691\u001b[0m     \u001b[0;32mtry\u001b[0m\u001b[0;34m:\u001b[0m\u001b[0;34m\u001b[0m\u001b[0;34m\u001b[0m\u001b[0m\n\u001b[1;32m   1692\u001b[0m         \u001b[0mblocks\u001b[0m \u001b[0;34m=\u001b[0m \u001b[0mform_blocks\u001b[0m\u001b[0;34m(\u001b[0m\u001b[0marrays\u001b[0m\u001b[0;34m,\u001b[0m \u001b[0mnames\u001b[0m\u001b[0;34m,\u001b[0m \u001b[0maxes\u001b[0m\u001b[0;34m)\u001b[0m\u001b[0;34m\u001b[0m\u001b[0;34m\u001b[0m\u001b[0m\n\u001b[0;32m-> 1693\u001b[0;31m         \u001b[0mmgr\u001b[0m \u001b[0;34m=\u001b[0m \u001b[0mBlockManager\u001b[0m\u001b[0;34m(\u001b[0m\u001b[0mblocks\u001b[0m\u001b[0;34m,\u001b[0m \u001b[0maxes\u001b[0m\u001b[0;34m)\u001b[0m\u001b[0;34m\u001b[0m\u001b[0;34m\u001b[0m\u001b[0m\n\u001b[0m\u001b[1;32m   1694\u001b[0m         \u001b[0mmgr\u001b[0m\u001b[0;34m.\u001b[0m\u001b[0m_consolidate_inplace\u001b[0m\u001b[0;34m(\u001b[0m\u001b[0;34m)\u001b[0m\u001b[0;34m\u001b[0m\u001b[0;34m\u001b[0m\u001b[0m\n\u001b[1;32m   1695\u001b[0m         \u001b[0;32mreturn\u001b[0m \u001b[0mmgr\u001b[0m\u001b[0;34m\u001b[0m\u001b[0;34m\u001b[0m\u001b[0m\n",
            "\u001b[0;32m/usr/local/lib/python3.7/dist-packages/pandas/core/internals/managers.py\u001b[0m in \u001b[0;36m__init__\u001b[0;34m(self, blocks, axes, do_integrity_check)\u001b[0m\n\u001b[1;32m    147\u001b[0m \u001b[0;34m\u001b[0m\u001b[0m\n\u001b[1;32m    148\u001b[0m         \u001b[0;32mif\u001b[0m \u001b[0mdo_integrity_check\u001b[0m\u001b[0;34m:\u001b[0m\u001b[0;34m\u001b[0m\u001b[0;34m\u001b[0m\u001b[0m\n\u001b[0;32m--> 149\u001b[0;31m             \u001b[0mself\u001b[0m\u001b[0;34m.\u001b[0m\u001b[0m_verify_integrity\u001b[0m\u001b[0;34m(\u001b[0m\u001b[0;34m)\u001b[0m\u001b[0;34m\u001b[0m\u001b[0;34m\u001b[0m\u001b[0m\n\u001b[0m\u001b[1;32m    150\u001b[0m \u001b[0;34m\u001b[0m\u001b[0m\n\u001b[1;32m    151\u001b[0m         \u001b[0;31m# Populate known_consolidate, blknos, and blklocs lazily\u001b[0m\u001b[0;34m\u001b[0m\u001b[0;34m\u001b[0m\u001b[0;34m\u001b[0m\u001b[0m\n",
            "\u001b[0;32m/usr/local/lib/python3.7/dist-packages/pandas/core/internals/managers.py\u001b[0m in \u001b[0;36m_verify_integrity\u001b[0;34m(self)\u001b[0m\n\u001b[1;32m    327\u001b[0m         \u001b[0;32mfor\u001b[0m \u001b[0mblock\u001b[0m \u001b[0;32min\u001b[0m \u001b[0mself\u001b[0m\u001b[0;34m.\u001b[0m\u001b[0mblocks\u001b[0m\u001b[0;34m:\u001b[0m\u001b[0;34m\u001b[0m\u001b[0;34m\u001b[0m\u001b[0m\n\u001b[1;32m    328\u001b[0m             \u001b[0;32mif\u001b[0m \u001b[0mblock\u001b[0m\u001b[0;34m.\u001b[0m\u001b[0mshape\u001b[0m\u001b[0;34m[\u001b[0m\u001b[0;36m1\u001b[0m\u001b[0;34m:\u001b[0m\u001b[0;34m]\u001b[0m \u001b[0;34m!=\u001b[0m \u001b[0mmgr_shape\u001b[0m\u001b[0;34m[\u001b[0m\u001b[0;36m1\u001b[0m\u001b[0;34m:\u001b[0m\u001b[0;34m]\u001b[0m\u001b[0;34m:\u001b[0m\u001b[0;34m\u001b[0m\u001b[0;34m\u001b[0m\u001b[0m\n\u001b[0;32m--> 329\u001b[0;31m                 \u001b[0;32mraise\u001b[0m \u001b[0mconstruction_error\u001b[0m\u001b[0;34m(\u001b[0m\u001b[0mtot_items\u001b[0m\u001b[0;34m,\u001b[0m \u001b[0mblock\u001b[0m\u001b[0;34m.\u001b[0m\u001b[0mshape\u001b[0m\u001b[0;34m[\u001b[0m\u001b[0;36m1\u001b[0m\u001b[0;34m:\u001b[0m\u001b[0;34m]\u001b[0m\u001b[0;34m,\u001b[0m \u001b[0mself\u001b[0m\u001b[0;34m.\u001b[0m\u001b[0maxes\u001b[0m\u001b[0;34m)\u001b[0m\u001b[0;34m\u001b[0m\u001b[0;34m\u001b[0m\u001b[0m\n\u001b[0m\u001b[1;32m    330\u001b[0m         \u001b[0;32mif\u001b[0m \u001b[0mlen\u001b[0m\u001b[0;34m(\u001b[0m\u001b[0mself\u001b[0m\u001b[0;34m.\u001b[0m\u001b[0mitems\u001b[0m\u001b[0;34m)\u001b[0m \u001b[0;34m!=\u001b[0m \u001b[0mtot_items\u001b[0m\u001b[0;34m:\u001b[0m\u001b[0;34m\u001b[0m\u001b[0;34m\u001b[0m\u001b[0m\n\u001b[1;32m    331\u001b[0m             raise AssertionError(\n",
            "\u001b[0;31mValueError\u001b[0m: Shape of passed values is (2, 2), indices imply (4, 2)"
          ]
        },
        {
          "output_type": "display_data",
          "data": {
            "image/png": "[encoded data removed]",
            "text/plain": [
              "<Figure size 432x288 with 1 Axes>"
            ]
          },
          "metadata": {
            "needs_background": "light"
          }
        }
      ]
    },
    {
      "cell_type": "code",
      "metadata": {
        "id": "RRi-U7ciB-mb"
      },
      "source": [
        ""
      ],
      "execution_count": null,
      "outputs": []
    },
    {
      "cell_type": "code",
      "metadata": {
        "id": "UZx3DY0JB-I8"
      },
      "source": [
        ""
      ],
      "execution_count": null,
      "outputs": []
    },
    {
      "cell_type": "code",
      "metadata": {
        "id": "k0fbdtHfB-Cv"
      },
      "source": [
        ""
      ],
      "execution_count": null,
      "outputs": []
    },
    {
      "cell_type": "code",
      "metadata": {
        "id": "SeFctu-QB97O"
      },
      "source": [
        ""
      ],
      "execution_count": null,
      "outputs": []
    },
    {
      "cell_type": "code",
      "metadata": {
        "id": "bN14PGzVB9z5"
      },
      "source": [
        ""
      ],
      "execution_count": null,
      "outputs": []
    },
    {
      "cell_type": "code",
      "metadata": {
        "id": "dQaKFYraB9s3"
      },
      "source": [
        ""
      ],
      "execution_count": null,
      "outputs": []
    },
    {
      "cell_type": "code",
      "metadata": {
        "id": "1ELFTJmSB9lf"
      },
      "source": [
        ""
      ],
      "execution_count": null,
      "outputs": []
    },
    {
      "cell_type": "code",
      "metadata": {
        "id": "elA-EvwjB9eE"
      },
      "source": [
        ""
      ],
      "execution_count": null,
      "outputs": []
    },
    {
      "cell_type": "code",
      "metadata": {
        "id": "ibShptAGB9WT"
      },
      "source": [
        ""
      ],
      "execution_count": null,
      "outputs": []
    },
    {
      "cell_type": "code",
      "metadata": {
        "id": "MYWAkyH4B9No"
      },
      "source": [
        ""
      ],
      "execution_count": null,
      "outputs": []
    },
    {
      "cell_type": "code",
      "metadata": {
        "colab": {
          "base_uri": "https://localhost:8080/",
          "height": 237
        },
        "id": "W9dlgDJPB9El",
        "outputId": "3f6a3e49-af86-4661-8a82-2cd425c9711c"
      },
      "source": [
        "df.head()"
      ],
      "execution_count": null,
      "outputs": [
        {
          "output_type": "execute_result",
          "data": {
            "text/html": [
              "<div>\n",
              "<style scoped>\n",
              "    .dataframe tbody tr th:only-of-type {\n",
              "        vertical-align: middle;\n",
              "    }\n",
              "\n",
              "    .dataframe tbody tr th {\n",
              "        vertical-align: top;\n",
              "    }\n",
              "\n",
              "    .dataframe thead th {\n",
              "        text-align: right;\n",
              "    }\n",
              "</style>\n",
              "<table border=\"1\" class=\"dataframe\">\n",
              "  <thead>\n",
              "    <tr style=\"text-align: right;\">\n",
              "      <th></th>\n",
              "      <th>Power</th>\n",
              "      <th>Lights</th>\n",
              "      <th>Appliances</th>\n",
              "    </tr>\n",
              "    <tr>\n",
              "      <th>Date</th>\n",
              "      <th></th>\n",
              "      <th></th>\n",
              "      <th></th>\n",
              "    </tr>\n",
              "  </thead>\n",
              "  <tbody>\n",
              "    <tr>\n",
              "      <th>2017-01-02</th>\n",
              "      <td>6470.376667</td>\n",
              "      <td>610.0</td>\n",
              "      <td>12340.0</td>\n",
              "    </tr>\n",
              "    <tr>\n",
              "      <th>2017-01-03</th>\n",
              "      <td>6295.808333</td>\n",
              "      <td>780.0</td>\n",
              "      <td>13970.0</td>\n",
              "    </tr>\n",
              "    <tr>\n",
              "      <th>2017-01-04</th>\n",
              "      <td>6249.562500</td>\n",
              "      <td>720.0</td>\n",
              "      <td>21800.0</td>\n",
              "    </tr>\n",
              "    <tr>\n",
              "      <th>2017-01-05</th>\n",
              "      <td>NaN</td>\n",
              "      <td>860.0</td>\n",
              "      <td>18050.0</td>\n",
              "    </tr>\n",
              "    <tr>\n",
              "      <th>2017-01-06</th>\n",
              "      <td>6051.949167</td>\n",
              "      <td>1150.0</td>\n",
              "      <td>18040.0</td>\n",
              "    </tr>\n",
              "  </tbody>\n",
              "</table>\n",
              "</div>"
            ],
            "text/plain": [
              "                  Power  Lights  Appliances\n",
              "Date                                       \n",
              "2017-01-02  6470.376667   610.0     12340.0\n",
              "2017-01-03  6295.808333   780.0     13970.0\n",
              "2017-01-04  6249.562500   720.0     21800.0\n",
              "2017-01-05          NaN   860.0     18050.0\n",
              "2017-01-06  6051.949167  1150.0     18040.0"
            ]
          },
          "metadata": {},
          "execution_count": 22
        }
      ]
    },
    {
      "cell_type": "code",
      "metadata": {
        "colab": {
          "base_uri": "https://localhost:8080/"
        },
        "id": "i0531ry3C3dM",
        "outputId": "73290efa-1f42-4e4f-83aa-345ae9f3cc74"
      },
      "source": [
        "df = pd.read_excel('/content/drive/MyDrive/Time Series Forecast/Demo_data.xlsx', index_col=\"Date\",parse_dates=True)\n",
        "df.interpolate(method = 'time', inplace = True)\n",
        "df.sort_index(inplace=True)\n",
        "df.shape"
      ],
      "execution_count": null,
      "outputs": [
        {
          "output_type": "execute_result",
          "data": {
            "text/plain": [
              "(710, 3)"
            ]
          },
          "metadata": {},
          "execution_count": 2
        }
      ]
    },
    {
      "cell_type": "code",
      "metadata": {
        "colab": {
          "base_uri": "https://localhost:8080/",
          "height": 295
        },
        "id": "QavWpad0Dt0E",
        "outputId": "b08ea034-1e35-4ea4-e023-61578f9150d7"
      },
      "source": [
        "s = df['Power'].to_frame()\n",
        "#s.sort_index(inplace=True)\n",
        "s.plot()"
      ],
      "execution_count": null,
      "outputs": [
        {
          "output_type": "execute_result",
          "data": {
            "text/plain": [
              "<matplotlib.axes._subplots.AxesSubplot at 0x7ff322c072d0>"
            ]
          },
          "metadata": {},
          "execution_count": 36
        },
        {
          "output_type": "display_data",
          "data": {
            "image/png": "[encoded data removed]",
            "text/plain": [
              "<Figure size 432x288 with 1 Axes>"
            ]
          },
          "metadata": {
            "needs_background": "light"
          }
        }
      ]
    },
    {
      "cell_type": "code",
      "metadata": {
        "colab": {
          "base_uri": "https://localhost:8080/"
        },
        "id": "Jlo-mWgsTEwa",
        "outputId": "48a6fa61-16aa-4770-fb03-97e505a06a57"
      },
      "source": [
        "#s.reset_index(inplace = True)\n",
        "s.info()"
      ],
      "execution_count": null,
      "outputs": [
        {
          "output_type": "stream",
          "name": "stdout",
          "text": [
            "<class 'pandas.core.frame.DataFrame'>\n",
            "DatetimeIndex: 710 entries, 2017-01-02 to 2018-12-31\n",
            "Data columns (total 1 columns):\n",
            " #   Column  Non-Null Count  Dtype  \n",
            "---  ------  --------------  -----  \n",
            " 0   Power   710 non-null    float64\n",
            "dtypes: float64(1)\n",
            "memory usage: 31.1 KB\n"
          ]
        }
      ]
    },
    {
      "cell_type": "code",
      "metadata": {
        "colab": {
          "base_uri": "https://localhost:8080/",
          "height": 322
        },
        "id": "Xt2gq-Zq_15d",
        "outputId": "401ed1e6-ca79-4f99-9df6-d9a3295578ad"
      },
      "source": [
        "decomposition = seasonal_decompose(s.asfreq('s'), model = 'additive')\n",
        "seasonal = decomposition.seasonal.to_frame()\n",
        "seasonal.plot()"
      ],
      "execution_count": null,
      "outputs": [
        {
          "output_type": "error",
          "ename": "ValueError",
          "evalue": "ignored",
          "traceback": [
            "\u001b[0;31m---------------------------------------------------------------------------\u001b[0m",
            "\u001b[0;31mValueError\u001b[0m                                Traceback (most recent call last)",
            "\u001b[0;32m<ipython-input-38-3f7e5a8388b2>\u001b[0m in \u001b[0;36m<module>\u001b[0;34m()\u001b[0m\n\u001b[0;32m----> 1\u001b[0;31m \u001b[0mdecomposition\u001b[0m \u001b[0;34m=\u001b[0m \u001b[0mseasonal_decompose\u001b[0m\u001b[0;34m(\u001b[0m\u001b[0ms\u001b[0m\u001b[0;34m.\u001b[0m\u001b[0masfreq\u001b[0m\u001b[0;34m(\u001b[0m\u001b[0;34m's'\u001b[0m\u001b[0;34m)\u001b[0m\u001b[0;34m,\u001b[0m \u001b[0mmodel\u001b[0m \u001b[0;34m=\u001b[0m \u001b[0;34m'additive'\u001b[0m\u001b[0;34m)\u001b[0m\u001b[0;34m\u001b[0m\u001b[0;34m\u001b[0m\u001b[0m\n\u001b[0m\u001b[1;32m      2\u001b[0m \u001b[0mseasonal\u001b[0m \u001b[0;34m=\u001b[0m \u001b[0mdecomposition\u001b[0m\u001b[0;34m.\u001b[0m\u001b[0mseasonal\u001b[0m\u001b[0;34m.\u001b[0m\u001b[0mto_frame\u001b[0m\u001b[0;34m(\u001b[0m\u001b[0;34m)\u001b[0m\u001b[0;34m\u001b[0m\u001b[0;34m\u001b[0m\u001b[0m\n\u001b[1;32m      3\u001b[0m \u001b[0mseasonal\u001b[0m\u001b[0;34m.\u001b[0m\u001b[0mplot\u001b[0m\u001b[0;34m(\u001b[0m\u001b[0;34m)\u001b[0m\u001b[0;34m\u001b[0m\u001b[0;34m\u001b[0m\u001b[0m\n",
            "\u001b[0;32m/usr/local/lib/python3.7/dist-packages/statsmodels/tsa/seasonal.py\u001b[0m in \u001b[0;36mseasonal_decompose\u001b[0;34m(x, model, filt, freq, two_sided, extrapolate_trend)\u001b[0m\n\u001b[1;32m    114\u001b[0m \u001b[0;34m\u001b[0m\u001b[0m\n\u001b[1;32m    115\u001b[0m     \u001b[0;32mif\u001b[0m \u001b[0;32mnot\u001b[0m \u001b[0mnp\u001b[0m\u001b[0;34m.\u001b[0m\u001b[0mall\u001b[0m\u001b[0;34m(\u001b[0m\u001b[0mnp\u001b[0m\u001b[0;34m.\u001b[0m\u001b[0misfinite\u001b[0m\u001b[0;34m(\u001b[0m\u001b[0mx\u001b[0m\u001b[0;34m)\u001b[0m\u001b[0;34m)\u001b[0m\u001b[0;34m:\u001b[0m\u001b[0;34m\u001b[0m\u001b[0;34m\u001b[0m\u001b[0m\n\u001b[0;32m--> 116\u001b[0;31m         \u001b[0;32mraise\u001b[0m \u001b[0mValueError\u001b[0m\u001b[0;34m(\u001b[0m\u001b[0;34m\"This function does not handle missing values\"\u001b[0m\u001b[0;34m)\u001b[0m\u001b[0;34m\u001b[0m\u001b[0;34m\u001b[0m\u001b[0m\n\u001b[0m\u001b[1;32m    117\u001b[0m     \u001b[0;32mif\u001b[0m \u001b[0mmodel\u001b[0m\u001b[0;34m.\u001b[0m\u001b[0mstartswith\u001b[0m\u001b[0;34m(\u001b[0m\u001b[0;34m'm'\u001b[0m\u001b[0;34m)\u001b[0m\u001b[0;34m:\u001b[0m\u001b[0;34m\u001b[0m\u001b[0;34m\u001b[0m\u001b[0m\n\u001b[1;32m    118\u001b[0m         \u001b[0;32mif\u001b[0m \u001b[0mnp\u001b[0m\u001b[0;34m.\u001b[0m\u001b[0many\u001b[0m\u001b[0;34m(\u001b[0m\u001b[0mx\u001b[0m \u001b[0;34m<=\u001b[0m \u001b[0;36m0\u001b[0m\u001b[0;34m)\u001b[0m\u001b[0;34m:\u001b[0m\u001b[0;34m\u001b[0m\u001b[0;34m\u001b[0m\u001b[0m\n",
            "\u001b[0;31mValueError\u001b[0m: This function does not handle missing values"
          ]
        }
      ]
    },
    {
      "cell_type": "code",
      "metadata": {
        "colab": {
          "base_uri": "https://localhost:8080/",
          "height": 545
        },
        "id": "Ci8aWWhrbXNO",
        "outputId": "0707ef7d-bb88-4af3-dff4-04f4a1f8df1c"
      },
      "source": [
        "plot_acf(s, lags = 90)"
      ],
      "execution_count": null,
      "outputs": [
        {
          "output_type": "execute_result",
          "data": {
            "image/png": "[encoded data removed]",
            "text/plain": [
              "<Figure size 432x288 with 1 Axes>"
            ]
          },
          "metadata": {},
          "execution_count": 45
        },
        {
          "output_type": "display_data",
          "data": {
            "image/png": "[encoded data removed]",
            "text/plain": [
              "<Figure size 432x288 with 1 Axes>"
            ]
          },
          "metadata": {
            "needs_background": "light"
          }
        }
      ]
    },
    {
      "cell_type": "code",
      "metadata": {
        "colab": {
          "base_uri": "https://localhost:8080/",
          "height": 237
        },
        "id": "51FblOHuSqrk",
        "outputId": "fa1c8021-da91-4ed5-97f0-d0f1d1f16442"
      },
      "source": [
        "df.head()"
      ],
      "execution_count": null,
      "outputs": [
        {
          "output_type": "execute_result",
          "data": {
            "text/html": [
              "<div>\n",
              "<style scoped>\n",
              "    .dataframe tbody tr th:only-of-type {\n",
              "        vertical-align: middle;\n",
              "    }\n",
              "\n",
              "    .dataframe tbody tr th {\n",
              "        vertical-align: top;\n",
              "    }\n",
              "\n",
              "    .dataframe thead th {\n",
              "        text-align: right;\n",
              "    }\n",
              "</style>\n",
              "<table border=\"1\" class=\"dataframe\">\n",
              "  <thead>\n",
              "    <tr style=\"text-align: right;\">\n",
              "      <th></th>\n",
              "      <th>Power</th>\n",
              "      <th>Lights</th>\n",
              "      <th>Appliances</th>\n",
              "    </tr>\n",
              "    <tr>\n",
              "      <th>Date</th>\n",
              "      <th></th>\n",
              "      <th></th>\n",
              "      <th></th>\n",
              "    </tr>\n",
              "  </thead>\n",
              "  <tbody>\n",
              "    <tr>\n",
              "      <th>2017-01-02</th>\n",
              "      <td>6470.376667</td>\n",
              "      <td>610.0</td>\n",
              "      <td>12340.0</td>\n",
              "    </tr>\n",
              "    <tr>\n",
              "      <th>2017-01-03</th>\n",
              "      <td>6295.808333</td>\n",
              "      <td>780.0</td>\n",
              "      <td>13970.0</td>\n",
              "    </tr>\n",
              "    <tr>\n",
              "      <th>2017-01-04</th>\n",
              "      <td>6249.562500</td>\n",
              "      <td>720.0</td>\n",
              "      <td>21800.0</td>\n",
              "    </tr>\n",
              "    <tr>\n",
              "      <th>2017-01-05</th>\n",
              "      <td>6150.755833</td>\n",
              "      <td>860.0</td>\n",
              "      <td>18050.0</td>\n",
              "    </tr>\n",
              "    <tr>\n",
              "      <th>2017-01-06</th>\n",
              "      <td>6051.949167</td>\n",
              "      <td>1150.0</td>\n",
              "      <td>18040.0</td>\n",
              "    </tr>\n",
              "  </tbody>\n",
              "</table>\n",
              "</div>"
            ],
            "text/plain": [
              "                  Power  Lights  Appliances\n",
              "Date                                       \n",
              "2017-01-02  6470.376667   610.0     12340.0\n",
              "2017-01-03  6295.808333   780.0     13970.0\n",
              "2017-01-04  6249.562500   720.0     21800.0\n",
              "2017-01-05  6150.755833   860.0     18050.0\n",
              "2017-01-06  6051.949167  1150.0     18040.0"
            ]
          },
          "metadata": {},
          "execution_count": 33
        }
      ]
    },
    {
      "cell_type": "code",
      "metadata": {
        "colab": {
          "base_uri": "https://localhost:8080/"
        },
        "id": "iHJ4qQrMAkVx",
        "outputId": "1cada742-f6e5-4eb8-bd52-f6d90c9f15c0"
      },
      "source": [
        "s"
      ],
      "execution_count": null,
      "outputs": [
        {
          "output_type": "execute_result",
          "data": {
            "text/plain": [
              "Date\n",
              "2017-01-02    6470.376667\n",
              "2017-01-03    6295.808333\n",
              "2017-01-04    6249.562500\n",
              "2017-01-05    6150.755833\n",
              "2017-01-06    6051.949167\n",
              "                 ...     \n",
              "2018-12-27    5944.443652\n",
              "2018-12-28    5697.503586\n",
              "2018-12-29    5564.862351\n",
              "2018-12-30    5580.795238\n",
              "2018-12-31    5670.456705\n",
              "Name: Power, Length: 710, dtype: float64"
            ]
          },
          "metadata": {},
          "execution_count": 35
        }
      ]
    },
    {
      "cell_type": "code",
      "metadata": {
        "id": "fxFiwtRQpVck",
        "colab": {
          "base_uri": "https://localhost:8080/",
          "height": 322
        },
        "outputId": "c4681683-0e6f-4e0b-b514-65ea69e1b335"
      },
      "source": [
        "df.interpolate(method = 'time', inplace = True)\n",
        "s = df['Power']\n",
        "df.interpolate(method = 'time', inplace = True)\n",
        "decomposition = seasonal_decompose(s, model = 'additive')"
      ],
      "execution_count": null,
      "outputs": [
        {
          "output_type": "error",
          "ename": "ValueError",
          "evalue": "ignored",
          "traceback": [
            "\u001b[0;31m---------------------------------------------------------------------------\u001b[0m",
            "\u001b[0;31mValueError\u001b[0m                                Traceback (most recent call last)",
            "\u001b[0;32m<ipython-input-26-dc640113f4ee>\u001b[0m in \u001b[0;36m<module>\u001b[0;34m()\u001b[0m\n\u001b[1;32m      2\u001b[0m \u001b[0ms\u001b[0m \u001b[0;34m=\u001b[0m \u001b[0mdf\u001b[0m\u001b[0;34m[\u001b[0m\u001b[0;34m'Power'\u001b[0m\u001b[0;34m]\u001b[0m\u001b[0;34m\u001b[0m\u001b[0;34m\u001b[0m\u001b[0m\n\u001b[1;32m      3\u001b[0m \u001b[0mdf\u001b[0m\u001b[0;34m.\u001b[0m\u001b[0minterpolate\u001b[0m\u001b[0;34m(\u001b[0m\u001b[0mmethod\u001b[0m \u001b[0;34m=\u001b[0m \u001b[0;34m'time'\u001b[0m\u001b[0;34m,\u001b[0m \u001b[0minplace\u001b[0m \u001b[0;34m=\u001b[0m \u001b[0;32mTrue\u001b[0m\u001b[0;34m)\u001b[0m\u001b[0;34m\u001b[0m\u001b[0;34m\u001b[0m\u001b[0m\n\u001b[0;32m----> 4\u001b[0;31m \u001b[0mdecomposition\u001b[0m \u001b[0;34m=\u001b[0m \u001b[0mseasonal_decompose\u001b[0m\u001b[0;34m(\u001b[0m\u001b[0ms\u001b[0m\u001b[0;34m,\u001b[0m \u001b[0mmodel\u001b[0m \u001b[0;34m=\u001b[0m \u001b[0;34m'additive'\u001b[0m\u001b[0;34m)\u001b[0m\u001b[0;34m\u001b[0m\u001b[0;34m\u001b[0m\u001b[0m\n\u001b[0m",
            "\u001b[0;32m/usr/local/lib/python3.7/dist-packages/statsmodels/tsa/seasonal.py\u001b[0m in \u001b[0;36mseasonal_decompose\u001b[0;34m(x, model, filt, freq, two_sided, extrapolate_trend)\u001b[0m\n\u001b[1;32m    125\u001b[0m             \u001b[0mfreq\u001b[0m \u001b[0;34m=\u001b[0m \u001b[0mpfreq\u001b[0m\u001b[0;34m\u001b[0m\u001b[0;34m\u001b[0m\u001b[0m\n\u001b[1;32m    126\u001b[0m         \u001b[0;32melse\u001b[0m\u001b[0;34m:\u001b[0m\u001b[0;34m\u001b[0m\u001b[0;34m\u001b[0m\u001b[0m\n\u001b[0;32m--> 127\u001b[0;31m             raise ValueError(\"You must specify a freq or x must be a \"\n\u001b[0m\u001b[1;32m    128\u001b[0m                              \u001b[0;34m\"pandas object with a timeseries index with \"\u001b[0m\u001b[0;34m\u001b[0m\u001b[0;34m\u001b[0m\u001b[0m\n\u001b[1;32m    129\u001b[0m                              \"a freq not set to None\")\n",
            "\u001b[0;31mValueError\u001b[0m: You must specify a freq or x must be a pandas object with a timeseries index with a freq not set to None"
          ]
        }
      ]
    },
    {
      "cell_type": "code",
      "metadata": {
        "colab": {
          "base_uri": "https://localhost:8080/"
        },
        "id": "2gKmJgqQDyZR",
        "outputId": "49a71f71-c355-4cd3-fea8-04f5c409745f"
      },
      "source": [
        "seasonal = decomposition.seasonal.to_frame()\n",
        "seasonal.describe().iloc[1,0]"
      ],
      "execution_count": null,
      "outputs": [
        {
          "output_type": "execute_result",
          "data": {
            "text/plain": [
              "-373.3523822528388"
            ]
          },
          "metadata": {},
          "execution_count": 38
        }
      ]
    },
    {
      "cell_type": "code",
      "metadata": {
        "colab": {
          "base_uri": "https://localhost:8080/"
        },
        "id": "WOtYrQc1JcTh",
        "outputId": "b9ae3386-33e0-477a-eee3-3ce48ae52513"
      },
      "source": [
        "list(range(-10, 0))"
      ],
      "execution_count": null,
      "outputs": [
        {
          "output_type": "execute_result",
          "data": {
            "text/plain": [
              "[-10, -9, -8, -7, -6, -5, -4, -3, -2, -1]"
            ]
          },
          "metadata": {},
          "execution_count": 44
        }
      ]
    },
    {
      "cell_type": "code",
      "metadata": {
        "colab": {
          "base_uri": "https://localhost:8080/"
        },
        "id": "_aXmcFgjFfSx",
        "outputId": "a150518a-4073-4323-f85c-70e3a3928846"
      },
      "source": [
        "int(seasonal.iloc[2, 0]) - 10"
      ],
      "execution_count": null,
      "outputs": [
        {
          "output_type": "execute_result",
          "data": {
            "text/plain": [
              "-7650"
            ]
          },
          "metadata": {},
          "execution_count": 49
        }
      ]
    },
    {
      "cell_type": "code",
      "metadata": {
        "colab": {
          "base_uri": "https://localhost:8080/"
        },
        "id": "ZEu7yP-YHp9F",
        "outputId": "b7b1fb97-4e59-4efd-a132-30e1c9ebfab8"
      },
      "source": [
        "done = False\n",
        "check = 0\n",
        "i = 1\n",
        "while done == False:\n",
        "  if (seasonal.iloc[i, 0] - 10) <= seasonal.iloc[0,0] <= (seasonal.iloc[i, 0] + 10):\n",
        "    check = 0\n",
        "    for j in range(10):\n",
        "      if (seasonal.iloc[i + j, 0] - 10) <= seasonal.iloc[j,0] <= (seasonal.iloc[i + j, 0] + 10):\n",
        "        check += 1\n",
        "        if check >= 5:\n",
        "          done = True\n",
        "        print (i)\n",
        "  i += 1"
      ],
      "execution_count": null,
      "outputs": [
        {
          "output_type": "stream",
          "name": "stdout",
          "text": [
            "12\n",
            "12\n",
            "12\n",
            "12\n",
            "12\n",
            "12\n",
            "12\n",
            "12\n",
            "12\n",
            "12\n"
          ]
        }
      ]
    },
    {
      "cell_type": "code",
      "metadata": {
        "id": "8fPN2kl-afbX"
      },
      "source": [
        "df = pd.read_csv('/content/drive/MyDrive/Time Series Forecast/Demo_data.csv', index_col=\"Date\",parse_dates=True)\n",
        "n = df.shape[0]\n",
        "N_features = df.shape[1]\n",
        "b = int((n * 0.2) / 5)\n",
        "horizon = 30\n",
        "n = horizon + 5\n",
        "scaler = MinMaxScaler()\n",
        "df = scaler.fit_transform(df)\n",
        "features = df\n",
        "target = df[:,0]\n",
        "x_train, x_test, y_train, y_test = train_test_split(features, target, test_size = 0.20, shuffle = False)\n",
        "train_generator = TimeseriesGenerator(x_train, y_train, length = n, sampling_rate = 1 , batch_size = b)\n",
        "test_generator = TimeseriesGenerator(x_test, y_test, length = n, sampling_rate = 1 , batch_size = b)"
      ],
      "execution_count": null,
      "outputs": []
    },
    {
      "cell_type": "code",
      "metadata": {
        "id": "aZ3yblcUfWhi"
      },
      "source": [
        "from keras.layers import Input\n",
        "input = Input(n, N_features)\n",
        "model = tf.keras.Sequential()\n",
        "model.add(tf.keras.layers.LSTM(128, input_shape = (n, N_features), return_sequences = True))\n",
        "model.add(tf.keras.layers.LeakyReLU(alpha = 0.5))\n",
        "model.add(tf.keras.layers.LSTM(128, return_sequences = True))\n",
        "model.add(tf.keras.layers.LeakyReLU(alpha = 0.5))\n",
        "model.add(tf.keras.layers.Dropout(0.3))\n",
        "model.add(tf.keras.layers.LSTM(64, return_sequences = False))\n",
        "model.add(tf.keras.layers.Dropout(0.3))\n",
        "model.add(tf.keras.layers.Dense(1))\n",
        "\n",
        "early_stopping = tf.keras.callbacks.EarlyStopping(monitor = 'val_loss', patience = 10, mode = 'min')\n",
        "\n",
        "model.compile(loss = tf.losses.MeanAbsoluteError(),\n",
        "              optimizer = tf.optimizers.Adam(),\n",
        "              metrics = [tf.metrics.MeanAbsoluteError()])\n",
        "\n",
        "\n",
        "history = model.fit_generator(train_generator, epochs= 100, validation_data= test_generator,\n",
        "                              shuffle = False, callbacks = [early_stopping])\n",
        "\n",
        "\n",
        "\n"
      ],
      "execution_count": null,
      "outputs": []
    },
    {
      "cell_type": "code",
      "metadata": {
        "id": "dIePX32c0Enm"
      },
      "source": [
        "model.evaluate_generator(test_generator)"
      ],
      "execution_count": null,
      "outputs": []
    },
    {
      "cell_type": "code",
      "metadata": {
        "id": "QPnhUzTe0GVT"
      },
      "source": [
        "predictions = model.predict_generator(test_generator)"
      ],
      "execution_count": null,
      "outputs": []
    },
    {
      "cell_type": "code",
      "metadata": {
        "id": "gtv8yPZiXrOi"
      },
      "source": [
        "model."
      ],
      "execution_count": null,
      "outputs": []
    },
    {
      "cell_type": "code",
      "metadata": {
        "id": "Q8sm0roOB9bV"
      },
      "source": [
        "test_generator[3]"
      ],
      "execution_count": null,
      "outputs": []
    },
    {
      "cell_type": "code",
      "metadata": {
        "id": "6atttJEmHdQx"
      },
      "source": [
        "y_test"
      ],
      "execution_count": null,
      "outputs": []
    },
    {
      "cell_type": "code",
      "metadata": {
        "id": "IkHtdUOp6bVL"
      },
      "source": [
        " plt.figure(figsize=(16,9))\n",
        " plt.plot(history.history['loss'])\n",
        " plt.plot(history.history['val_loss'])\n",
        " plt.title('Model loss')\n",
        " plt.ylabel('loss')\n",
        " plt.xlabel('epoch')\n",
        " plt.legend(['train loss', 'validation loss'])\n",
        " plt.show() "
      ],
      "execution_count": null,
      "outputs": []
    },
    {
      "cell_type": "code",
      "metadata": {
        "id": "YTWiARppVAhn"
      },
      "source": [
        "predictions"
      ],
      "execution_count": null,
      "outputs": []
    },
    {
      "cell_type": "code",
      "metadata": {
        "colab": {
          "base_uri": "https://localhost:8080/",
          "height": 282
        },
        "id": "1JhB6sBZ6o5O",
        "outputId": "0178674b-ca8a-456f-bb4a-eadefa6c7126"
      },
      "source": [
        "df_pred = pd.concat([pd.DataFrame(predictions), pd.DataFrame(y_test[n:])], axis = 1)\n",
        "columns =  ['predicted', 'actual']\n",
        "df_pred.columns = columns\n",
        "df_pred.plot()"
      ],
      "execution_count": null,
      "outputs": [
        {
          "output_type": "execute_result",
          "data": {
            "text/plain": [
              "<matplotlib.axes._subplots.AxesSubplot at 0x7f1c29f5ab90>"
            ]
          },
          "metadata": {},
          "execution_count": 11
        },
        {
          "output_type": "display_data",
          "data": {
            "image/png": "[encoded data removed]",
            "text/plain": [
              "<Figure size 432x288 with 1 Axes>"
            ]
          },
          "metadata": {
            "needs_background": "light"
          }
        }
      ]
    },
    {
      "cell_type": "code",
      "metadata": {
        "colab": {
          "base_uri": "https://localhost:8080/",
          "height": 266
        },
        "id": "y_wli6UR6TNU",
        "outputId": "a3b605e7-8192-4b5c-9aad-b5b318d6e49d"
      },
      "source": [
        "df_pred"
      ],
      "execution_count": null,
      "outputs": [
        {
          "output_type": "execute_result",
          "data": {
            "text/html": [
              "<div>\n",
              "<style scoped>\n",
              "    .dataframe tbody tr th:only-of-type {\n",
              "        vertical-align: middle;\n",
              "    }\n",
              "\n",
              "    .dataframe tbody tr th {\n",
              "        vertical-align: top;\n",
              "    }\n",
              "\n",
              "    .dataframe thead th {\n",
              "        text-align: right;\n",
              "    }\n",
              "</style>\n",
              "<table border=\"1\" class=\"dataframe\">\n",
              "  <thead>\n",
              "    <tr style=\"text-align: right;\">\n",
              "      <th></th>\n",
              "      <th>predicted</th>\n",
              "      <th>actual</th>\n",
              "    </tr>\n",
              "  </thead>\n",
              "  <tbody>\n",
              "    <tr>\n",
              "      <th>0</th>\n",
              "      <td>0.026019</td>\n",
              "      <td>0.199765</td>\n",
              "    </tr>\n",
              "    <tr>\n",
              "      <th>1</th>\n",
              "      <td>0.029414</td>\n",
              "      <td>0.155836</td>\n",
              "    </tr>\n",
              "    <tr>\n",
              "      <th>2</th>\n",
              "      <td>0.031004</td>\n",
              "      <td>0.156663</td>\n",
              "    </tr>\n",
              "    <tr>\n",
              "      <th>3</th>\n",
              "      <td>0.034682</td>\n",
              "      <td>0.186177</td>\n",
              "    </tr>\n",
              "    <tr>\n",
              "      <th>4</th>\n",
              "      <td>0.038437</td>\n",
              "      <td>0.300289</td>\n",
              "    </tr>\n",
              "    <tr>\n",
              "      <th>5</th>\n",
              "      <td>0.042401</td>\n",
              "      <td>0.719483</td>\n",
              "    </tr>\n",
              "    <tr>\n",
              "      <th>6</th>\n",
              "      <td>0.046723</td>\n",
              "      <td>1.000000</td>\n",
              "    </tr>\n",
              "  </tbody>\n",
              "</table>\n",
              "</div>"
            ],
            "text/plain": [
              "   predicted    actual\n",
              "0   0.026019  0.199765\n",
              "1   0.029414  0.155836\n",
              "2   0.031004  0.156663\n",
              "3   0.034682  0.186177\n",
              "4   0.038437  0.300289\n",
              "5   0.042401  0.719483\n",
              "6   0.046723  1.000000"
            ]
          },
          "metadata": {},
          "execution_count": 157
        }
      ]
    },
    {
      "cell_type": "code",
      "metadata": {
        "colab": {
          "base_uri": "https://localhost:8080/"
        },
        "id": "_PffiiwABsMy",
        "outputId": "69850081-81cc-4fb6-8ee6-545c23bb7c79"
      },
      "source": [
        "x_test.shape"
      ],
      "execution_count": null,
      "outputs": [
        {
          "output_type": "execute_result",
          "data": {
            "text/plain": [
              "(142, 3)"
            ]
          },
          "metadata": {},
          "execution_count": 184
        }
      ]
    },
    {
      "cell_type": "code",
      "metadata": {
        "colab": {
          "base_uri": "https://localhost:8080/"
        },
        "id": "KedbZPKRmFCr",
        "outputId": "14b02999-77c9-4978-f229-744fbf4bc8e0"
      },
      "source": [
        "data.rolling(5)"
      ],
      "execution_count": null,
      "outputs": [
        {
          "output_type": "execute_result",
          "data": {
            "text/plain": [
              "Rolling [window=5,center=False,axis=0]"
            ]
          },
          "metadata": {},
          "execution_count": 10
        }
      ]
    },
    {
      "cell_type": "code",
      "metadata": {
        "colab": {
          "base_uri": "https://localhost:8080/"
        },
        "id": "PiKbOgLqqhel",
        "outputId": "a1078118-d2a0-4fa2-d18e-11dc578da694"
      },
      "source": [
        "(exp(2*1.96/sqrt(59 - 3)-1))/(exp(2*1.96/sqrt(59-3)+1))"
      ],
      "execution_count": null,
      "outputs": [
        {
          "output_type": "execute_result",
          "data": {
            "text/plain": [
              "0.1353352832366127"
            ]
          },
          "metadata": {},
          "execution_count": 253
        }
      ]
    },
    {
      "cell_type": "code",
      "metadata": {
        "id": "xD9sK3VFdoCn",
        "colab": {
          "base_uri": "https://localhost:8080/"
        },
        "outputId": "39245900-925a-46f6-ef47-0f2eef7ad6e0"
      },
      "source": [
        "acf(log(s).diff().dropna().values)"
      ],
      "execution_count": null,
      "outputs": [
        {
          "output_type": "execute_result",
          "data": {
            "text/plain": [
              "array([ 1.        , -0.36905067, -0.07343527, -0.0811164 ,  0.00968057,\n",
              "        0.07406532, -0.07909408,  0.17862722, -0.19549884,  0.14443138,\n",
              "       -0.32162827,  0.2127612 ,  0.22648015, -0.17806277, -0.00609883,\n",
              "       -0.00947955, -0.01098472,  0.04531976,  0.08333116, -0.10634425,\n",
              "       -0.016505  ,  0.0870694 , -0.19963613,  0.01298266,  0.21406771,\n",
              "       -0.0665476 ,  0.02198595, -0.06451302, -0.02141105,  0.09208105,\n",
              "       -0.05320085,  0.01058642,  0.03699672,  0.02305001, -0.27001534,\n",
              "        0.14650039,  0.10881492, -0.07097137,  0.07376892, -0.11094907,\n",
              "        0.09482839])"
            ]
          },
          "metadata": {},
          "execution_count": 252
        }
      ]
    },
    {
      "cell_type": "code",
      "metadata": {
        "id": "XirnVg0lpbr7",
        "colab": {
          "base_uri": "https://localhost:8080/"
        },
        "outputId": "138dc5ff-30ce-488f-d9be-87a13becd480"
      },
      "source": [
        "(exp(2*1.96/sqrt(104 - 3)-1))/(exp(2*1.96/sqrt(104-3)+1))"
      ],
      "execution_count": null,
      "outputs": [
        {
          "output_type": "execute_result",
          "data": {
            "text/plain": [
              "0.13533528323661267"
            ]
          },
          "metadata": {},
          "execution_count": 109
        }
      ]
    },
    {
      "cell_type": "code",
      "metadata": {
        "colab": {
          "base_uri": "https://localhost:8080/"
        },
        "id": "W-yFlt2To9aJ",
        "outputId": "553a776c-84a4-489a-ea52-805cae7f2b77"
      },
      "source": [
        "(exp(2*1.96/sqrt(104-3)-1))/(exp(2*1.96/sqrt(104-3)+1))"
      ],
      "execution_count": null,
      "outputs": [
        {
          "output_type": "execute_result",
          "data": {
            "text/plain": [
              "0.13533528323661267"
            ]
          },
          "metadata": {},
          "execution_count": 47
        }
      ]
    },
    {
      "cell_type": "code",
      "metadata": {
        "colab": {
          "base_uri": "https://localhost:8080/"
        },
        "id": "Y7cV6T4AiTZg",
        "outputId": "ca1af7fc-3413-4bb9-97e4-7b1da912738c"
      },
      "source": [
        "columns"
      ],
      "execution_count": null,
      "outputs": [
        {
          "output_type": "execute_result",
          "data": {
            "text/plain": [
              "['Power']"
            ]
          },
          "metadata": {},
          "execution_count": 29
        }
      ]
    },
    {
      "cell_type": "code",
      "metadata": {
        "id": "MgE5KQbDWADY"
      },
      "source": [
        ""
      ],
      "execution_count": null,
      "outputs": []
    },
    {
      "cell_type": "code",
      "metadata": {
        "colab": {
          "base_uri": "https://localhost:8080/",
          "height": 294
        },
        "id": "B_9vy1uR5O8J",
        "outputId": "3183ac68-43b7-481b-838d-e2925bd2bc8e"
      },
      "source": [
        "s = df['Power']\n",
        "s.plot()"
      ],
      "execution_count": null,
      "outputs": [
        {
          "output_type": "execute_result",
          "data": {
            "text/plain": [
              "<matplotlib.axes._subplots.AxesSubplot at 0x7fb52ae60450>"
            ]
          },
          "metadata": {},
          "execution_count": 7
        },
        {
          "output_type": "display_data",
          "data": {
            "image/png": "[encoded data removed]",
            "text/plain": [
              "<Figure size 432x288 with 1 Axes>"
            ]
          },
          "metadata": {
            "needs_background": "light"
          }
        }
      ]
    },
    {
      "cell_type": "code",
      "metadata": {
        "id": "5491UFx1Bs-x"
      },
      "source": [
        "decomposition = seasonal_decompose(s, freq = 1, model = 'multiplicative')"
      ],
      "execution_count": null,
      "outputs": []
    },
    {
      "cell_type": "code",
      "metadata": {
        "colab": {
          "base_uri": "https://localhost:8080/",
          "height": 294
        },
        "id": "ijfalmFJCrDH",
        "outputId": "c17408d6-8395-48bd-a91f-730a9167d66a"
      },
      "source": [
        "decomposition.seasonal.plot()"
      ],
      "execution_count": null,
      "outputs": [
        {
          "output_type": "execute_result",
          "data": {
            "text/plain": [
              "<matplotlib.axes._subplots.AxesSubplot at 0x7fb52a7aa510>"
            ]
          },
          "metadata": {},
          "execution_count": 12
        },
        {
          "output_type": "display_data",
          "data": {
            "image/png": "[encoded data removed]",
            "text/plain": [
              "<Figure size 432x288 with 1 Axes>"
            ]
          },
          "metadata": {
            "needs_background": "light"
          }
        }
      ]
    },
    {
      "cell_type": "code",
      "metadata": {
        "colab": {
          "base_uri": "https://localhost:8080/",
          "height": 296
        },
        "id": "UwWX-CY36xvy",
        "outputId": "f60aca14-1343-4c7b-9fd1-02c2ed5ac0f4"
      },
      "source": [
        "s.diff().dropna().diff().dropna().plot()"
      ],
      "execution_count": null,
      "outputs": [
        {
          "output_type": "execute_result",
          "data": {
            "text/plain": [
              "<matplotlib.axes._subplots.AxesSubplot at 0x7f3650ef3350>"
            ]
          },
          "metadata": {},
          "execution_count": 85
        },
        {
          "output_type": "display_data",
          "data": {
            "image/png": "[encoded data removed]",
            "text/plain": [
              "<Figure size 432x288 with 1 Axes>"
            ]
          },
          "metadata": {
            "needs_background": "light"
          }
        }
      ]
    },
    {
      "cell_type": "code",
      "metadata": {
        "colab": {
          "base_uri": "https://localhost:8080/",
          "height": 296
        },
        "id": "HhV9gadD9hQP",
        "outputId": "49386b33-0138-4774-8fc1-151e109f3dea"
      },
      "source": [
        "from numpy import log\n",
        "log(s).diff().dropna().plot()"
      ],
      "execution_count": null,
      "outputs": [
        {
          "output_type": "execute_result",
          "data": {
            "text/plain": [
              "<matplotlib.axes._subplots.AxesSubplot at 0x7fb6df633a50>"
            ]
          },
          "metadata": {},
          "execution_count": 244
        },
        {
          "output_type": "display_data",
          "data": {
            "image/png": "[encoded data removed]",
            "text/plain": [
              "<Figure size 432x288 with 1 Axes>"
            ]
          },
          "metadata": {
            "needs_background": "light"
          }
        }
      ]
    },
    {
      "cell_type": "code",
      "metadata": {
        "colab": {
          "base_uri": "https://localhost:8080/"
        },
        "id": "ma8yLndqpvf1",
        "outputId": "5287e548-0fb3-4e1c-c9ef-f0290b11fe8a"
      },
      "source": [
        "adfuller(s.diff().dropna().diff().dropna())[1]"
      ],
      "execution_count": null,
      "outputs": [
        {
          "output_type": "execute_result",
          "data": {
            "text/plain": [
              "0.0002745871164326168"
            ]
          },
          "metadata": {},
          "execution_count": 84
        }
      ]
    },
    {
      "cell_type": "code",
      "metadata": {
        "colab": {
          "base_uri": "https://localhost:8080/",
          "height": 545
        },
        "id": "FYxGn67Hpm6U",
        "outputId": "73714582-9e61-4302-8ec3-2b4008373975"
      },
      "source": [
        "plot_pacf(log(s).diff().dropna())"
      ],
      "execution_count": null,
      "outputs": [
        {
          "output_type": "execute_result",
          "data": {
            "image/png": "[encoded data removed]",
            "text/plain": [
              "<Figure size 432x288 with 1 Axes>"
            ]
          },
          "metadata": {},
          "execution_count": 250
        },
        {
          "output_type": "display_data",
          "data": {
            "image/png": "[encoded data removed]",
            "text/plain": [
              "<Figure size 432x288 with 1 Axes>"
            ]
          },
          "metadata": {
            "needs_background": "light"
          }
        }
      ]
    },
    {
      "cell_type": "code",
      "metadata": {
        "colab": {
          "base_uri": "https://localhost:8080/",
          "height": 296
        },
        "id": "ODWKXoghNIvO",
        "outputId": "0d25e494-cd5e-477b-eca4-2c9a27a254a8"
      },
      "source": [
        "df.diff().dropna().diff().dropna()['BEV sales'].plot()"
      ],
      "execution_count": null,
      "outputs": [
        {
          "output_type": "execute_result",
          "data": {
            "text/plain": [
              "<matplotlib.axes._subplots.AxesSubplot at 0x7fb6df798650>"
            ]
          },
          "metadata": {},
          "execution_count": 158
        },
        {
          "output_type": "display_data",
          "data": {
            "image/png": "[encoded data removed]",
            "text/plain": [
              "<Figure size 432x288 with 1 Axes>"
            ]
          },
          "metadata": {
            "needs_background": "light"
          }
        }
      ]
    },
    {
      "cell_type": "code",
      "metadata": {
        "colab": {
          "base_uri": "https://localhost:8080/",
          "height": 296
        },
        "id": "Ztmqi6aZNrkG",
        "outputId": "04634183-d1bd-4abf-8d0e-2102a5fc3b76"
      },
      "source": [
        "s.diff().dropna().diff().dropna().diff().dropna().diff().dropna().plot()"
      ],
      "execution_count": null,
      "outputs": [
        {
          "output_type": "execute_result",
          "data": {
            "text/plain": [
              "<matplotlib.axes._subplots.AxesSubplot at 0x7fb6e2ccb350>"
            ]
          },
          "metadata": {},
          "execution_count": 168
        },
        {
          "output_type": "display_data",
          "data": {
            "image/png": "[encoded data removed]",
            "text/plain": [
              "<Figure size 432x288 with 1 Axes>"
            ]
          },
          "metadata": {
            "needs_background": "light"
          }
        }
      ]
    },
    {
      "cell_type": "code",
      "metadata": {
        "colab": {
          "base_uri": "https://localhost:8080/"
        },
        "id": "CsFoLT3eNe0z",
        "outputId": "62de2b75-59fb-4b7f-cd8c-4ff6837b71dc"
      },
      "source": [
        "adfuller(log(s).diff().dropna())[1]"
      ],
      "execution_count": null,
      "outputs": [
        {
          "output_type": "execute_result",
          "data": {
            "text/plain": [
              "0.001082148484561462"
            ]
          },
          "metadata": {},
          "execution_count": 214
        }
      ]
    },
    {
      "cell_type": "code",
      "metadata": {
        "id": "-XZT2Tb-7AWa",
        "colab": {
          "base_uri": "https://localhost:8080/",
          "height": 545
        },
        "outputId": "24402301-0293-442d-f4c7-a06466fcf4ab"
      },
      "source": [
        "plot_acf(s.diff().dropna().diff().dropna().diff().dropna().diff().dropna())"
      ],
      "execution_count": null,
      "outputs": [
        {
          "output_type": "execute_result",
          "data": {
            "image/png": "[encoded data removed]",
            "text/plain": [
              "<Figure size 432x288 with 1 Axes>"
            ]
          },
          "metadata": {},
          "execution_count": 169
        },
        {
          "output_type": "display_data",
          "data": {
            "image/png": "[encoded data removed]",
            "text/plain": [
              "<Figure size 432x288 with 1 Axes>"
            ]
          },
          "metadata": {
            "needs_background": "light"
          }
        }
      ]
    },
    {
      "cell_type": "code",
      "metadata": {
        "colab": {
          "base_uri": "https://localhost:8080/",
          "height": 300
        },
        "id": "-ABxub8o5dRF",
        "outputId": "2f3d0e6b-13a7-4fff-d678-bd191ef17bc9"
      },
      "source": [
        "  data.describe()"
      ],
      "execution_count": null,
      "outputs": [
        {
          "output_type": "execute_result",
          "data": {
            "text/html": [
              "<div>\n",
              "<style scoped>\n",
              "    .dataframe tbody tr th:only-of-type {\n",
              "        vertical-align: middle;\n",
              "    }\n",
              "\n",
              "    .dataframe tbody tr th {\n",
              "        vertical-align: top;\n",
              "    }\n",
              "\n",
              "    .dataframe thead th {\n",
              "        text-align: right;\n",
              "    }\n",
              "</style>\n",
              "<table border=\"1\" class=\"dataframe\">\n",
              "  <thead>\n",
              "    <tr style=\"text-align: right;\">\n",
              "      <th></th>\n",
              "      <th>Power_consumption</th>\n",
              "      <th>Appliances</th>\n",
              "      <th>Lights</th>\n",
              "    </tr>\n",
              "  </thead>\n",
              "  <tbody>\n",
              "    <tr>\n",
              "      <th>count</th>\n",
              "      <td>308.000000</td>\n",
              "      <td>308.000000</td>\n",
              "      <td>308.000000</td>\n",
              "    </tr>\n",
              "    <tr>\n",
              "      <th>mean</th>\n",
              "      <td>570.138707</td>\n",
              "      <td>1417.116883</td>\n",
              "      <td>71.012987</td>\n",
              "    </tr>\n",
              "    <tr>\n",
              "      <th>std</th>\n",
              "      <td>45.568249</td>\n",
              "      <td>435.893989</td>\n",
              "      <td>51.527101</td>\n",
              "    </tr>\n",
              "    <tr>\n",
              "      <th>min</th>\n",
              "      <td>476.000000</td>\n",
              "      <td>540.000000</td>\n",
              "      <td>0.000000</td>\n",
              "    </tr>\n",
              "    <tr>\n",
              "      <th>25%</th>\n",
              "      <td>533.341125</td>\n",
              "      <td>1105.750000</td>\n",
              "      <td>31.000000</td>\n",
              "    </tr>\n",
              "    <tr>\n",
              "      <th>50%</th>\n",
              "      <td>561.434125</td>\n",
              "      <td>1343.500000</td>\n",
              "      <td>60.500000</td>\n",
              "    </tr>\n",
              "    <tr>\n",
              "      <th>75%</th>\n",
              "      <td>605.993312</td>\n",
              "      <td>1642.000000</td>\n",
              "      <td>95.000000</td>\n",
              "    </tr>\n",
              "    <tr>\n",
              "      <th>max</th>\n",
              "      <td>665.000000</td>\n",
              "      <td>2735.000000</td>\n",
              "      <td>258.000000</td>\n",
              "    </tr>\n",
              "  </tbody>\n",
              "</table>\n",
              "</div>"
            ],
            "text/plain": [
              "       Power_consumption   Appliances      Lights\n",
              "count         308.000000   308.000000  308.000000\n",
              "mean          570.138707  1417.116883   71.012987\n",
              "std            45.568249   435.893989   51.527101\n",
              "min           476.000000   540.000000    0.000000\n",
              "25%           533.341125  1105.750000   31.000000\n",
              "50%           561.434125  1343.500000   60.500000\n",
              "75%           605.993312  1642.000000   95.000000\n",
              "max           665.000000  2735.000000  258.000000"
            ]
          },
          "metadata": {},
          "execution_count": 74
        }
      ]
    },
    {
      "cell_type": "code",
      "metadata": {
        "colab": {
          "base_uri": "https://localhost:8080/"
        },
        "id": "rGQoQ1TWC_ao",
        "outputId": "411e21b5-4245-4f8f-f0e1-cb331ea51092"
      },
      "source": [
        "missing_dates(data)"
      ],
      "execution_count": null,
      "outputs": [
        {
          "output_type": "execute_result",
          "data": {
            "text/plain": [
              "2.5974025974025974"
            ]
          },
          "metadata": {},
          "execution_count": 75
        }
      ]
    },
    {
      "cell_type": "code",
      "metadata": {
        "id": "-3uemUqdC_VM"
      },
      "source": [
        ""
      ],
      "execution_count": null,
      "outputs": []
    },
    {
      "cell_type": "code",
      "metadata": {
        "id": "ubP-w7pzC_O4"
      },
      "source": [
        ""
      ],
      "execution_count": null,
      "outputs": []
    },
    {
      "cell_type": "code",
      "metadata": {
        "id": "6oDOvWouC_I7"
      },
      "source": [
        ""
      ],
      "execution_count": null,
      "outputs": []
    },
    {
      "cell_type": "code",
      "metadata": {
        "id": "_64JJGwMC_CI"
      },
      "source": [
        ""
      ],
      "execution_count": null,
      "outputs": []
    },
    {
      "cell_type": "code",
      "metadata": {
        "id": "MVOZi0I9C-7g"
      },
      "source": [
        ""
      ],
      "execution_count": null,
      "outputs": []
    },
    {
      "cell_type": "code",
      "metadata": {
        "colab": {
          "base_uri": "https://localhost:8080/"
        },
        "id": "2Qiea9anC-01",
        "outputId": "bbf19093-cfaa-40be-d77c-6fc191e309f6"
      },
      "source": [
        "round(missing_dates(data), 2)"
      ],
      "execution_count": null,
      "outputs": [
        {
          "output_type": "execute_result",
          "data": {
            "text/plain": [
              "2.6"
            ]
          },
          "metadata": {},
          "execution_count": 98
        }
      ]
    },
    {
      "cell_type": "code",
      "metadata": {
        "colab": {
          "base_uri": "https://localhost:8080/",
          "height": 553
        },
        "id": "KMyzeFZ3IePz",
        "outputId": "567c56e3-28a2-4e06-8d6c-754aea229023"
      },
      "source": [
        "pipeline(data)"
      ],
      "execution_count": null,
      "outputs": [
        {
          "output_type": "stream",
          "name": "stdout",
          "text": [
            "Ingesting Data....\n",
            "Total datapoints: 709\n",
            "Checking for missing Dates....\n",
            "2.54% of dates are missing from dataset!\n",
            "Imputing Data....\n",
            "Imputation Done. New Dataframe formed...\n",
            "Checking Rollup...\n",
            "Rollup done. Total datapoints after Rollup: 104\n",
            "Checking Stationarity of data...\n",
            "Power data is stationary\n",
            "Test RMSE: 2419.479\n"
          ]
        },
        {
          "output_type": "execute_result",
          "data": {
            "text/html": [
              "<div>\n",
              "<style scoped>\n",
              "    .dataframe tbody tr th:only-of-type {\n",
              "        vertical-align: middle;\n",
              "    }\n",
              "\n",
              "    .dataframe tbody tr th {\n",
              "        vertical-align: top;\n",
              "    }\n",
              "\n",
              "    .dataframe thead th {\n",
              "        text-align: right;\n",
              "    }\n",
              "</style>\n",
              "<table border=\"1\" class=\"dataframe\">\n",
              "  <thead>\n",
              "    <tr style=\"text-align: right;\">\n",
              "      <th></th>\n",
              "      <th>Date</th>\n",
              "      <th>Power</th>\n",
              "    </tr>\n",
              "  </thead>\n",
              "  <tbody>\n",
              "    <tr>\n",
              "      <th>0</th>\n",
              "      <td>2019-01-07</td>\n",
              "      <td>34495.445778</td>\n",
              "    </tr>\n",
              "    <tr>\n",
              "      <th>1</th>\n",
              "      <td>2019-01-14</td>\n",
              "      <td>34900.074948</td>\n",
              "    </tr>\n",
              "    <tr>\n",
              "      <th>2</th>\n",
              "      <td>2019-01-21</td>\n",
              "      <td>35930.897598</td>\n",
              "    </tr>\n",
              "    <tr>\n",
              "      <th>3</th>\n",
              "      <td>2019-01-28</td>\n",
              "      <td>37285.911182</td>\n",
              "    </tr>\n",
              "    <tr>\n",
              "      <th>4</th>\n",
              "      <td>2019-02-04</td>\n",
              "      <td>38697.992066</td>\n",
              "    </tr>\n",
              "    <tr>\n",
              "      <th>5</th>\n",
              "      <td>2019-02-11</td>\n",
              "      <td>39962.172751</td>\n",
              "    </tr>\n",
              "    <tr>\n",
              "      <th>6</th>\n",
              "      <td>2019-02-18</td>\n",
              "      <td>40946.473935</td>\n",
              "    </tr>\n",
              "    <tr>\n",
              "      <th>7</th>\n",
              "      <td>2019-02-25</td>\n",
              "      <td>41590.899140</td>\n",
              "    </tr>\n",
              "    <tr>\n",
              "      <th>8</th>\n",
              "      <td>2019-03-04</td>\n",
              "      <td>41896.826678</td>\n",
              "    </tr>\n",
              "    <tr>\n",
              "      <th>9</th>\n",
              "      <td>2019-03-11</td>\n",
              "      <td>41910.836429</td>\n",
              "    </tr>\n",
              "  </tbody>\n",
              "</table>\n",
              "</div>"
            ],
            "text/plain": [
              "        Date         Power\n",
              "0 2019-01-07  34495.445778\n",
              "1 2019-01-14  34900.074948\n",
              "2 2019-01-21  35930.897598\n",
              "3 2019-01-28  37285.911182\n",
              "4 2019-02-04  38697.992066\n",
              "5 2019-02-11  39962.172751\n",
              "6 2019-02-18  40946.473935\n",
              "7 2019-02-25  41590.899140\n",
              "8 2019-03-04  41896.826678\n",
              "9 2019-03-11  41910.836429"
            ]
          },
          "metadata": {},
          "execution_count": 33
        }
      ]
    },
    {
      "cell_type": "code",
      "metadata": {
        "colab": {
          "base_uri": "https://localhost:8080/"
        },
        "id": "aU1zOQU_R4i1",
        "outputId": "f2317870-b085-498d-8a96-b166873e8eb4"
      },
      "source": [
        "pd.date_range(datetime.strptime(forecast_start_date, '%m-%d-%Y'),datetime.strptime(Forecast_end_date, '%m-%d-%Y')-timedelta(days=1),freq='7D')"
      ],
      "execution_count": null,
      "outputs": [
        {
          "output_type": "stream",
          "name": "stdout",
          "text": [
            "Checking Stationarity of data...\n",
            "Power_imputed data is stationary\n"
          ]
        }
      ]
    },
    {
      "cell_type": "code",
      "metadata": {
        "colab": {
          "base_uri": "https://localhost:8080/"
        },
        "id": "HBgPcyVooGSk",
        "outputId": "88e57c37-cf42-4c32-ee6c-2efd206dc1b8"
      },
      "source": [
        "adfuller(df['Power_imputed'])"
      ],
      "execution_count": null,
      "outputs": [
        {
          "output_type": "execute_result",
          "data": {
            "text/plain": [
              "(-6.682491895665318,\n",
              " 4.30706962716056e-09,\n",
              " 11,\n",
              " 92,\n",
              " {'1%': -3.503514579651927,\n",
              "  '10%': -2.583823615311909,\n",
              "  '5%': -2.893507960466837},\n",
              " 1618.9743760183972)"
            ]
          },
          "metadata": {},
          "execution_count": 33
        }
      ]
    },
    {
      "cell_type": "code",
      "metadata": {
        "colab": {
          "base_uri": "https://localhost:8080/",
          "height": 309
        },
        "id": "eYzoN65mSErx",
        "outputId": "cb2c9a7e-8c1b-401d-e815-eea8d5145720"
      },
      "source": [
        "df['Power_imputed'].plot()"
      ],
      "execution_count": null,
      "outputs": [
        {
          "output_type": "execute_result",
          "data": {
            "text/plain": [
              "<matplotlib.axes._subplots.AxesSubplot at 0x7f3b8488d690>"
            ]
          },
          "metadata": {},
          "execution_count": 36
        },
        {
          "output_type": "display_data",
          "data": {
            "image/png": "[encoded data removed]",
            "text/plain": [
              "<Figure size 432x288 with 1 Axes>"
            ]
          },
          "metadata": {
            "needs_background": "light"
          }
        }
      ]
    },
    {
      "cell_type": "code",
      "metadata": {
        "colab": {
          "base_uri": "https://localhost:8080/",
          "height": 545
        },
        "id": "n_Jf8IUstTrU",
        "outputId": "b59bb1f9-3c05-47d8-b9f9-8a9c5675857e"
      },
      "source": [
        "plot_pacf(s.diff().dropna().diff().dropna().diff().dropna().diff().dropna())"
      ],
      "execution_count": null,
      "outputs": [
        {
          "output_type": "execute_result",
          "data": {
            "image/png": "[encoded data removed]",
            "text/plain": [
              "<Figure size 432x288 with 1 Axes>"
            ]
          },
          "metadata": {},
          "execution_count": 170
        },
        {
          "output_type": "display_data",
          "data": {
            "image/png": "[encoded data removed]",
            "text/plain": [
              "<Figure size 432x288 with 1 Axes>"
            ]
          },
          "metadata": {
            "needs_background": "light"
          }
        }
      ]
    },
    {
      "cell_type": "code",
      "metadata": {
        "colab": {
          "base_uri": "https://localhost:8080/",
          "height": 545
        },
        "id": "kPZUuW9NvwMI",
        "outputId": "25019cf3-179a-408b-d02d-6e911f37c6ff"
      },
      "source": [
        "plot_acf(df['Power_imputed'])"
      ],
      "execution_count": null,
      "outputs": [
        {
          "output_type": "execute_result",
          "data": {
            "image/png": "[encoded data removed]",
            "text/plain": [
              "<Figure size 432x288 with 1 Axes>"
            ]
          },
          "metadata": {},
          "execution_count": 38
        },
        {
          "output_type": "display_data",
          "data": {
            "image/png": "[encoded data removed]",
            "text/plain": [
              "<Figure size 432x288 with 1 Axes>"
            ]
          },
          "metadata": {
            "needs_background": "light"
          }
        }
      ]
    },
    {
      "cell_type": "code",
      "metadata": {
        "id": "sZnFDoxWvxRh",
        "colab": {
          "base_uri": "https://localhost:8080/",
          "height": 300
        },
        "outputId": "9ed34ce7-d846-40ce-eda1-c7dfd3238926"
      },
      "source": [
        "df.describe()"
      ],
      "execution_count": null,
      "outputs": [
        {
          "output_type": "execute_result",
          "data": {
            "text/html": [
              "<div>\n",
              "<style scoped>\n",
              "    .dataframe tbody tr th:only-of-type {\n",
              "        vertical-align: middle;\n",
              "    }\n",
              "\n",
              "    .dataframe tbody tr th {\n",
              "        vertical-align: top;\n",
              "    }\n",
              "\n",
              "    .dataframe thead th {\n",
              "        text-align: right;\n",
              "    }\n",
              "</style>\n",
              "<table border=\"1\" class=\"dataframe\">\n",
              "  <thead>\n",
              "    <tr style=\"text-align: right;\">\n",
              "      <th></th>\n",
              "      <th>Power</th>\n",
              "      <th>Power_imputed</th>\n",
              "    </tr>\n",
              "  </thead>\n",
              "  <tbody>\n",
              "    <tr>\n",
              "      <th>count</th>\n",
              "      <td>104.000000</td>\n",
              "      <td>104.000000</td>\n",
              "    </tr>\n",
              "    <tr>\n",
              "      <th>mean</th>\n",
              "      <td>39429.531119</td>\n",
              "      <td>40472.197719</td>\n",
              "    </tr>\n",
              "    <tr>\n",
              "      <th>std</th>\n",
              "      <td>4046.927959</td>\n",
              "      <td>2906.450327</td>\n",
              "    </tr>\n",
              "    <tr>\n",
              "      <th>min</th>\n",
              "      <td>21864.435834</td>\n",
              "      <td>35010.717356</td>\n",
              "    </tr>\n",
              "    <tr>\n",
              "      <th>25%</th>\n",
              "      <td>37424.487873</td>\n",
              "      <td>38166.479608</td>\n",
              "    </tr>\n",
              "    <tr>\n",
              "      <th>50%</th>\n",
              "      <td>39415.420257</td>\n",
              "      <td>40168.244034</td>\n",
              "    </tr>\n",
              "    <tr>\n",
              "      <th>75%</th>\n",
              "      <td>41395.678043</td>\n",
              "      <td>42235.271875</td>\n",
              "    </tr>\n",
              "    <tr>\n",
              "      <th>max</th>\n",
              "      <td>47722.094421</td>\n",
              "      <td>47722.094421</td>\n",
              "    </tr>\n",
              "  </tbody>\n",
              "</table>\n",
              "</div>"
            ],
            "text/plain": [
              "              Power  Power_imputed\n",
              "count    104.000000     104.000000\n",
              "mean   39429.531119   40472.197719\n",
              "std     4046.927959    2906.450327\n",
              "min    21864.435834   35010.717356\n",
              "25%    37424.487873   38166.479608\n",
              "50%    39415.420257   40168.244034\n",
              "75%    41395.678043   42235.271875\n",
              "max    47722.094421   47722.094421"
            ]
          },
          "metadata": {},
          "execution_count": 39
        }
      ]
    },
    {
      "cell_type": "code",
      "metadata": {
        "colab": {
          "base_uri": "https://localhost:8080/"
        },
        "id": "r_1DsGgOSbQ0",
        "outputId": "0ee3d3d4-64bb-43af-c385-44c5c585a6e4"
      },
      "source": [
        "acf(df['Power_imputed'].values)"
      ],
      "execution_count": null,
      "outputs": [
        {
          "output_type": "execute_result",
          "data": {
            "text/plain": [
              "array([ 1.        ,  0.65867007,  0.37455115,  0.14587633, -0.03223106,\n",
              "       -0.14281382, -0.2735724 , -0.30317828, -0.28934542, -0.1580004 ,\n",
              "       -0.1166267 , -0.19295027, -0.34846449, -0.33615372, -0.25284542,\n",
              "       -0.13003643,  0.00950086,  0.18091751,  0.44420556,  0.59301025,\n",
              "        0.72622708,  0.48665575,  0.21175186,  0.06232125, -0.07669899,\n",
              "       -0.14124505, -0.26335035, -0.28471506, -0.19923842, -0.11966179,\n",
              "       -0.12026272, -0.20250823, -0.30765387, -0.28905221, -0.19193047,\n",
              "       -0.09786214,  0.04055376,  0.16489055,  0.38465281,  0.52480997,\n",
              "        0.47916971])"
            ]
          },
          "metadata": {},
          "execution_count": 43
        }
      ]
    },
    {
      "cell_type": "code",
      "metadata": {
        "colab": {
          "base_uri": "https://localhost:8080/",
          "height": 545
        },
        "id": "8KAk-jOhTK9X",
        "outputId": "6fc2d183-445c-41b3-9834-ec6665968cec"
      },
      "source": [
        "plot_acf(df['Power_imputed'])"
      ],
      "execution_count": null,
      "outputs": [
        {
          "output_type": "execute_result",
          "data": {
            "image/png": "[encoded data removed]",
            "text/plain": [
              "<Figure size 432x288 with 1 Axes>"
            ]
          },
          "metadata": {},
          "execution_count": 45
        },
        {
          "output_type": "display_data",
          "data": {
            "image/png": "[encoded data removed]",
            "text/plain": [
              "<Figure size 432x288 with 1 Axes>"
            ]
          },
          "metadata": {
            "needs_background": "light"
          }
        }
      ]
    },
    {
      "cell_type": "code",
      "metadata": {
        "colab": {
          "base_uri": "https://localhost:8080/"
        },
        "id": "857faYluTVzf",
        "outputId": "0dd43119-0ad4-47bc-f571-95e3e8ab3f0d"
      },
      "source": [
        "pacf(df['Power_imputed'].values)"
      ],
      "execution_count": null,
      "outputs": [
        {
          "output_type": "execute_result",
          "data": {
            "text/plain": [
              "array([ 1.00000000e+00,  6.65064926e-01, -1.08332966e-01, -1.07489924e-01,\n",
              "       -1.09937430e-01, -6.97635829e-02, -2.08525336e-01, -2.60390314e-02,\n",
              "       -6.41157862e-02,  1.36961753e-01, -1.64681123e-01, -2.84305934e-01,\n",
              "       -4.42331571e-01, -7.23870180e-03, -7.35425058e-02,  8.07759119e-02,\n",
              "        1.89784704e-02,  2.41059712e-01,  3.87284155e-01,  3.15975291e-01,\n",
              "        7.47855485e-01,  2.15234110e-01,  1.13703369e-01, -4.03872018e-02,\n",
              "       -4.21642891e-01, -7.10326711e-01, -3.25489966e+00,  1.34422650e+00,\n",
              "        9.85822812e-01,  2.13177645e+01, -1.04273802e+00, -6.77317746e-01,\n",
              "       -4.37647055e-01, -3.66855821e-01, -3.64884875e-01, -4.05767829e-01,\n",
              "       -2.20074284e-01, -3.36498290e-01,  1.39030672e-01,  1.11031569e+00,\n",
              "       -3.62614551e+00])"
            ]
          },
          "metadata": {},
          "execution_count": 46
        }
      ]
    },
    {
      "cell_type": "code",
      "metadata": {
        "colab": {
          "base_uri": "https://localhost:8080/"
        },
        "id": "hqztZ6wWUo7g",
        "outputId": "a76d5ad3-2f85-4a7f-9330-7767567b9577"
      },
      "source": [
        "6.65064926e-01 -  1.00000000e+00"
      ],
      "execution_count": null,
      "outputs": [
        {
          "output_type": "execute_result",
          "data": {
            "text/plain": [
              "-0.334935074"
            ]
          },
          "metadata": {},
          "execution_count": 47
        }
      ]
    },
    {
      "cell_type": "code",
      "metadata": {
        "colab": {
          "base_uri": "https://localhost:8080/"
        },
        "id": "4uBA2kv9Utwu",
        "outputId": "441a0973-8f80-43e2-bc4e-8a59e038b1ce"
      },
      "source": [
        "-1.08332966e-01 - 6.65064926e-01"
      ],
      "execution_count": null,
      "outputs": [
        {
          "output_type": "execute_result",
          "data": {
            "text/plain": [
              "-0.773397892"
            ]
          },
          "metadata": {},
          "execution_count": 48
        }
      ]
    },
    {
      "cell_type": "code",
      "metadata": {
        "id": "dLK3SYfMU_A-"
      },
      "source": [
        "a = pacf(df['Power_imputed'].values, nlags = 10)"
      ],
      "execution_count": null,
      "outputs": []
    },
    {
      "cell_type": "code",
      "metadata": {
        "colab": {
          "base_uri": "https://localhost:8080/"
        },
        "id": "C7HVtUkwUx-g",
        "outputId": "1884ecdb-6f43-46d0-e5b8-b88fb2eb22d8"
      },
      "source": [
        "[a[i +1] - a[i] for i in range(len(a) - 1)]"
      ],
      "execution_count": null,
      "outputs": [
        {
          "output_type": "execute_result",
          "data": {
            "text/plain": [
              "[-0.3349350740682816,\n",
              " -0.7733978918866096,\n",
              " 0.0008430421599230215,\n",
              " -0.002447506161818963,\n",
              " 0.04017384702535477,\n",
              " -0.13876175318870237,\n",
              " 0.18248630472663993,\n",
              " -0.038076754808622916,\n",
              " 0.20107753955984775,\n",
              " -0.3016428768549969]"
            ]
          },
          "metadata": {},
          "execution_count": 53
        }
      ]
    },
    {
      "cell_type": "code",
      "metadata": {
        "colab": {
          "base_uri": "https://localhost:8080/"
        },
        "id": "EzyVjCmwVIdO",
        "outputId": "70d28ed5-cabe-4a04-f2f6-1dbe1bab935c"
      },
      "source": [
        "b = [a[i +1] - a[i] for i in range(len(a) - 1)]\n",
        "b.index(min(b))"
      ],
      "execution_count": null,
      "outputs": [
        {
          "output_type": "execute_result",
          "data": {
            "text/plain": [
              "1"
            ]
          },
          "metadata": {},
          "execution_count": 56
        }
      ]
    },
    {
      "cell_type": "code",
      "metadata": {
        "colab": {
          "base_uri": "https://localhost:8080/",
          "height": 314
        },
        "id": "N_U3JTR1VYeN",
        "outputId": "c0172599-5284-4772-90e4-d1708b9b73b0"
      },
      "source": [
        "model = ARIMA(df['Power_imputed'], order=(1,1,0))\n",
        "mf = model.fit()\n",
        "mf.summary()"
      ],
      "execution_count": null,
      "outputs": [
        {
          "output_type": "execute_result",
          "data": {
            "text/html": [
              "<table class=\"simpletable\">\n",
              "<caption>ARIMA Model Results</caption>\n",
              "<tr>\n",
              "  <th>Dep. Variable:</th>  <td>D.Power_imputed</td> <th>  No. Observations:  </th>    <td>103</td>  \n",
              "</tr>\n",
              "<tr>\n",
              "  <th>Model:</th>          <td>ARIMA(1, 1, 0)</td>  <th>  Log Likelihood     </th> <td>-944.894</td>\n",
              "</tr>\n",
              "<tr>\n",
              "  <th>Method:</th>             <td>css-mle</td>     <th>  S.D. of innovations</th> <td>2332.708</td>\n",
              "</tr>\n",
              "<tr>\n",
              "  <th>Date:</th>          <td>Thu, 23 Sep 2021</td> <th>  AIC                </th> <td>1895.787</td>\n",
              "</tr>\n",
              "<tr>\n",
              "  <th>Time:</th>              <td>07:05:39</td>     <th>  BIC                </th> <td>1903.691</td>\n",
              "</tr>\n",
              "<tr>\n",
              "  <th>Sample:</th>           <td>01-10-2017</td>    <th>  HQIC               </th> <td>1898.989</td>\n",
              "</tr>\n",
              "<tr>\n",
              "  <th></th>                 <td>- 12-25-2018</td>   <th>                     </th>     <td> </td>   \n",
              "</tr>\n",
              "</table>\n",
              "<table class=\"simpletable\">\n",
              "<tr>\n",
              "            <td></td>               <th>coef</th>     <th>std err</th>      <th>z</th>      <th>P>|z|</th>  <th>[0.025</th>    <th>0.975]</th>  \n",
              "</tr>\n",
              "<tr>\n",
              "  <th>const</th>                 <td>  -70.0378</td> <td>  233.347</td> <td>   -0.300</td> <td> 0.765</td> <td> -527.390</td> <td>  387.314</td>\n",
              "</tr>\n",
              "<tr>\n",
              "  <th>ar.L1.D.Power_imputed</th> <td>    0.0141</td> <td>    0.109</td> <td>    0.130</td> <td> 0.897</td> <td>   -0.199</td> <td>    0.227</td>\n",
              "</tr>\n",
              "</table>\n",
              "<table class=\"simpletable\">\n",
              "<caption>Roots</caption>\n",
              "<tr>\n",
              "    <td></td>   <th>            Real</th>  <th>         Imaginary</th> <th>         Modulus</th>  <th>        Frequency</th>\n",
              "</tr>\n",
              "<tr>\n",
              "  <th>AR.1</th> <td>          70.9108</td> <td>          +0.0000j</td> <td>          70.9108</td> <td>           0.0000</td>\n",
              "</tr>\n",
              "</table>"
            ],
            "text/plain": [
              "<class 'statsmodels.iolib.summary.Summary'>\n",
              "\"\"\"\n",
              "                             ARIMA Model Results                              \n",
              "==============================================================================\n",
              "Dep. Variable:        D.Power_imputed   No. Observations:                  103\n",
              "Model:                 ARIMA(1, 1, 0)   Log Likelihood                -944.894\n",
              "Method:                       css-mle   S.D. of innovations           2332.708\n",
              "Date:                Thu, 23 Sep 2021   AIC                           1895.787\n",
              "Time:                        07:05:39   BIC                           1903.691\n",
              "Sample:                    01-10-2017   HQIC                          1898.989\n",
              "                         - 12-25-2018                                         \n",
              "=========================================================================================\n",
              "                            coef    std err          z      P>|z|      [0.025      0.975]\n",
              "-----------------------------------------------------------------------------------------\n",
              "const                   -70.0378    233.347     -0.300      0.765    -527.390     387.314\n",
              "ar.L1.D.Power_imputed     0.0141      0.109      0.130      0.897      -0.199       0.227\n",
              "                                    Roots                                    \n",
              "=============================================================================\n",
              "                  Real          Imaginary           Modulus         Frequency\n",
              "-----------------------------------------------------------------------------\n",
              "AR.1           70.9108           +0.0000j           70.9108            0.0000\n",
              "-----------------------------------------------------------------------------\n",
              "\"\"\""
            ]
          },
          "metadata": {},
          "execution_count": 68
        }
      ]
    },
    {
      "cell_type": "code",
      "metadata": {
        "colab": {
          "base_uri": "https://localhost:8080/",
          "height": 557
        },
        "id": "fem6nx6jeMsz",
        "outputId": "3b6529d9-2c5d-4f75-efb8-882a2e126b88"
      },
      "source": [
        "residuals = pd.DataFrame(mf.resid)\n",
        "residuals.plot()\n",
        "residuals.plot(kind='kde')"
      ],
      "execution_count": null,
      "outputs": [
        {
          "output_type": "execute_result",
          "data": {
            "text/plain": [
              "<matplotlib.axes._subplots.AxesSubplot at 0x7f3b797cdad0>"
            ]
          },
          "metadata": {},
          "execution_count": 72
        },
        {
          "output_type": "display_data",
          "data": {
            "image/png": "[encoded data removed]",
            "text/plain": [
              "<Figure size 432x288 with 1 Axes>"
            ]
          },
          "metadata": {
            "needs_background": "light"
          }
        },
        {
          "output_type": "display_data",
          "data": {
            "image/png": "[encoded data removed]",
            "text/plain": [
              "<Figure size 432x288 with 1 Axes>"
            ]
          },
          "metadata": {
            "needs_background": "light"
          }
        }
      ]
    },
    {
      "cell_type": "code",
      "metadata": {
        "colab": {
          "base_uri": "https://localhost:8080/",
          "height": 300
        },
        "id": "dOK_hGzJeeoV",
        "outputId": "2b27ee30-ae4a-4c6c-ea6c-c9e139e0c0cb"
      },
      "source": [
        "residuals.describe()"
      ],
      "execution_count": null,
      "outputs": [
        {
          "output_type": "execute_result",
          "data": {
            "text/html": [
              "<div>\n",
              "<style scoped>\n",
              "    .dataframe tbody tr th:only-of-type {\n",
              "        vertical-align: middle;\n",
              "    }\n",
              "\n",
              "    .dataframe tbody tr th {\n",
              "        vertical-align: top;\n",
              "    }\n",
              "\n",
              "    .dataframe thead th {\n",
              "        text-align: right;\n",
              "    }\n",
              "</style>\n",
              "<table border=\"1\" class=\"dataframe\">\n",
              "  <thead>\n",
              "    <tr style=\"text-align: right;\">\n",
              "      <th></th>\n",
              "      <th>0</th>\n",
              "    </tr>\n",
              "  </thead>\n",
              "  <tbody>\n",
              "    <tr>\n",
              "      <th>count</th>\n",
              "      <td>103.000000</td>\n",
              "    </tr>\n",
              "    <tr>\n",
              "      <th>mean</th>\n",
              "      <td>-1.398216</td>\n",
              "    </tr>\n",
              "    <tr>\n",
              "      <th>std</th>\n",
              "      <td>2344.114216</td>\n",
              "    </tr>\n",
              "    <tr>\n",
              "      <th>min</th>\n",
              "      <td>-10179.111890</td>\n",
              "    </tr>\n",
              "    <tr>\n",
              "      <th>25%</th>\n",
              "      <td>-1391.604080</td>\n",
              "    </tr>\n",
              "    <tr>\n",
              "      <th>50%</th>\n",
              "      <td>157.767357</td>\n",
              "    </tr>\n",
              "    <tr>\n",
              "      <th>75%</th>\n",
              "      <td>1583.628526</td>\n",
              "    </tr>\n",
              "    <tr>\n",
              "      <th>max</th>\n",
              "      <td>4960.166294</td>\n",
              "    </tr>\n",
              "  </tbody>\n",
              "</table>\n",
              "</div>"
            ],
            "text/plain": [
              "                  0\n",
              "count    103.000000\n",
              "mean      -1.398216\n",
              "std     2344.114216\n",
              "min   -10179.111890\n",
              "25%    -1391.604080\n",
              "50%      157.767357\n",
              "75%     1583.628526\n",
              "max     4960.166294"
            ]
          },
          "metadata": {},
          "execution_count": 73
        }
      ]
    },
    {
      "cell_type": "code",
      "metadata": {
        "colab": {
          "base_uri": "https://localhost:8080/"
        },
        "id": "AK6jQKVifwZI",
        "outputId": "82f346c0-a791-4040-b695-b275311eb634"
      },
      "source": [
        "df['Power_imputed'].values"
      ],
      "execution_count": null,
      "outputs": [
        {
          "output_type": "execute_result",
          "data": {
            "text/plain": [
              "array([42224.611666 , 42267.2525   , 45214.498857 , 44358.566106 ,\n",
              "       40457.890752 , 40064.089619 , 37327.940832 , 38399.562084 ,\n",
              "       36689.434166 , 36524.561666 , 38644.5475   , 39376.7533325,\n",
              "       39491.822499 , 38637.870833 , 36277.074166 , 36175.776667 ,\n",
              "       37736.280454 , 39275.160334 , 41820.393492 , 40286.461957 ,\n",
              "       41174.054742 , 44326.582891 , 45572.433146 , 44129.1079725,\n",
              "       39560.756081 , 41081.378512 , 37537.059772 , 38203.698356 ,\n",
              "       36752.685475 , 37409.427034 , 39093.59025  , 39908.767142 ,\n",
              "       40008.9801845, 38220.065659 , 36134.458583 , 36530.161433 ,\n",
              "       40848.783111 , 38054.672964 , 42013.111977 , 43894.352171 ,\n",
              "       41347.660595 , 45681.606025 , 46228.702195 , 43257.359287 ,\n",
              "       39454.087182 , 41034.214966 , 38037.548781 , 38140.745872 ,\n",
              "       37041.017715 , 38579.105795 , 39318.600088 , 40694.916456 ,\n",
              "       40511.5700585, 37720.105085 , 36445.984035 , 37082.819714 ,\n",
              "       41982.9166835, 39883.06642  , 40314.5020305, 44074.400773 ,\n",
              "       42900.523035 , 46377.05611  , 46183.904686 , 42616.515071 ,\n",
              "       40710.000544 , 39241.925045 , 39153.704281 , 38009.473835 ,\n",
              "       37450.538119 , 39623.741716 , 40403.313815 , 40543.214096 ,\n",
              "       40310.952482 , 37436.949308 , 37031.476926 , 38175.05752  ,\n",
              "       41103.351684 , 42656.930676 , 40866.853248 , 43028.945461 ,\n",
              "       44885.154951 , 47072.798827 , 45713.608106 , 41539.730386 ,\n",
              "       42058.976651 , 38753.446117 , 39481.958725 , 38215.607334 ,\n",
              "       38087.631251 , 40272.398449 , 41065.656953 , 41138.578147 ,\n",
              "       39793.98509  , 37387.103569 , 37679.619959 , 40656.603583 ,\n",
              "       40063.570196 , 43267.046322 , 42407.168871 , 42589.225439 ,\n",
              "       46592.714529 , 47722.094421 , 45293.133157 , 35010.717356 ])"
            ]
          },
          "metadata": {},
          "execution_count": 74
        }
      ]
    },
    {
      "cell_type": "code",
      "metadata": {
        "colab": {
          "base_uri": "https://localhost:8080/",
          "height": 837
        },
        "id": "9sBj8HqJfDls",
        "outputId": "fb97b2b5-acb3-49df-da5b-75800701481c"
      },
      "source": [
        "from sklearn.metrics import mean_squared_error\n",
        "from math import sqrt\n",
        "from matplotlib import pyplot\n",
        "X = df['Power_imputed'].values\n",
        "size = int(len(X) * 0.7)\n",
        "train, test = X[0:size], X[size:len(X)]\n",
        "history = [x for x in train]\n",
        "predictions = list()\n",
        "# walk-forward validation\n",
        "for t in range(len(test)):\n",
        "\tmodel = ARIMA(history, order=(2,0,1))\n",
        "\tmodel_fit = model.fit()\n",
        "\toutput = model_fit.forecast()\n",
        "\tyhat = output[0]\n",
        "\tpredictions.append(yhat)\n",
        "\tobs = test[t]\n",
        "\thistory.append(obs)\n",
        "\tprint('predicted=%f, expected=%f' % (yhat, obs))\n",
        "# evaluate forecasts\n",
        "rmse = sqrt(mean_squared_error(test, predictions))\n",
        "print('Test RMSE: %.3f' % rmse)\n",
        "# plot forecasts against actual outcomes\n",
        "pyplot.plot(test)\n",
        "pyplot.plot(predictions, color='red')\n",
        "pyplot.show()"
      ],
      "execution_count": null,
      "outputs": [
        {
          "output_type": "stream",
          "name": "stdout",
          "text": [
            "predicted=39837.401903, expected=40310.952482\n",
            "predicted=39683.177567, expected=37436.949308\n",
            "predicted=37733.243513, expected=37031.476926\n",
            "predicted=37655.259232, expected=38175.057520\n",
            "predicted=38687.507972, expected=41103.351684\n",
            "predicted=40812.737321, expected=42656.930676\n",
            "predicted=41797.566108, expected=40866.853248\n",
            "predicted=40412.979093, expected=43028.945461\n",
            "predicted=41798.459258, expected=44885.154951\n",
            "predicted=43177.191815, expected=47072.798827\n",
            "predicted=44664.453970, expected=45713.608106\n",
            "predicted=43224.314351, expected=41539.730386\n",
            "predicted=39610.345229, expected=42058.976651\n",
            "predicted=40217.605295, expected=38753.446117\n",
            "predicted=37652.825564, expected=39481.958725\n",
            "predicted=38572.482642, expected=38215.607334\n",
            "predicted=37790.497237, expected=38087.631251\n",
            "predicted=37963.655120, expected=40272.398449\n",
            "predicted=39897.541835, expected=41065.656953\n",
            "predicted=40566.097097, expected=41138.578147\n",
            "predicted=40614.515155, expected=39793.985090\n",
            "predicted=39570.592125, expected=37387.103569\n",
            "predicted=37829.215091, expected=37679.619959\n",
            "predicted=38295.188433, expected=40656.603583\n",
            "predicted=40734.810990, expected=40063.570196\n",
            "predicted=40236.851367, expected=43267.046322\n",
            "predicted=42627.783905, expected=42407.168871\n",
            "predicted=41734.625249, expected=42589.225439\n",
            "predicted=41724.136485, expected=46592.714529\n",
            "predicted=44647.734737, expected=47722.094421\n",
            "predicted=45266.102198, expected=45293.133157\n",
            "predicted=42908.356201, expected=35010.717356\n",
            "Test RMSE: 2419.479\n"
          ]
        },
        {
          "output_type": "display_data",
          "data": {
            "image/png": "[encoded data removed]",
            "text/plain": [
              "<Figure size 432x288 with 1 Axes>"
            ]
          },
          "metadata": {
            "needs_background": "light"
          }
        }
      ]
    },
    {
      "cell_type": "code",
      "metadata": {
        "colab": {
          "base_uri": "https://localhost:8080/"
        },
        "id": "7uRyhZmwvyO4",
        "outputId": "d7ba5326-618f-466b-fee6-d1365905c3c8"
      },
      "source": [
        "forecast_baseline(df, 'Power_imputed', 2, 0, 1)"
      ],
      "execution_count": null,
      "outputs": [
        {
          "output_type": "stream",
          "name": "stdout",
          "text": [
            "Test RMSE: 2419.479\n"
          ]
        },
        {
          "output_type": "execute_result",
          "data": {
            "text/plain": [
              "[34495.44577814262,\n",
              " 34900.074947559355,\n",
              " 35930.89759803598,\n",
              " 37285.911181959,\n",
              " 38697.992066001985,\n",
              " 39962.172750888065,\n",
              " 40946.47393489326,\n",
              " 41590.89913972499,\n",
              " 41896.826678050005,\n",
              " 41910.83642931434]"
            ]
          },
          "metadata": {},
          "execution_count": 108
        }
      ]
    },
    {
      "cell_type": "code",
      "metadata": {
        "id": "TYpEk9yGwHsD"
      },
      "source": [
        ""
      ],
      "execution_count": null,
      "outputs": []
    }
  ]
}